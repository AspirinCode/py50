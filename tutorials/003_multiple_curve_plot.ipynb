{
 "cells": [
  {
   "cell_type": "markdown",
   "source": [
    "# Multi Cruve plot\n",
    "There are times when it may be prudent to genereate a single plot with multple curves. "
   ],
   "metadata": {
    "collapsed": false
   },
   "id": "b458819069d1fe3f"
  },
  {
   "cell_type": "code",
   "execution_count": null,
   "id": "initial_id",
   "metadata": {
    "collapsed": true
   },
   "outputs": [],
   "source": []
  }
 ],
 "metadata": {
  "kernelspec": {
   "display_name": "Python 3",
   "language": "python",
   "name": "python3"
  },
  "language_info": {
   "codemirror_mode": {
    "name": "ipython",
    "version": 2
   },
   "file_extension": ".py",
   "mimetype": "text/x-python",
   "name": "python",
   "nbconvert_exporter": "python",
   "pygments_lexer": "ipython2",
   "version": "2.7.6"
  }
 },
 "nbformat": 4,
 "nbformat_minor": 5
}
