{
 "cells": [
  {
   "cell_type": "markdown",
   "source": [
    "# Parametric Tutorial\n",
    "**NOTE** \n",
    "This notebook is not meant to teach statistics, but only demo how to run the py50 functions. There are plenty of resources available online. I particularly found introductory [tutorials by DATAtab](https://datatab.net/tutorial/get-started) helpful. \n",
    "\n",
    "The following page will show examples of parametric tests using the Stats() and Plots() modules of py50. There are many plot features available for py50, but they will not all be demoed here. Instead, to see all the plots available, take a look at the [006_statistics_quickstart tutorial](https://github.com/tlint101/py50/blob/main/tutorials/006_statistics_quickstart.ipynb). "
   ],
   "metadata": {
    "collapsed": false
   },
   "id": "89c1123316d9123d"
  },
  {
   "cell_type": "code",
   "execution_count": 1,
   "id": "initial_id",
   "metadata": {
    "collapsed": true,
    "ExecuteTime": {
     "end_time": "2024-04-01T10:17:17.201330Z",
     "start_time": "2024-04-01T10:17:16.284849Z"
    }
   },
   "outputs": [],
   "source": [
    "import pandas as pd\n",
    "from py50 import utils\n",
    "from py50.stats import Stats, Plots\n",
    "from matplotlib import pyplot as plt\n",
    "import pingouin as pg\n",
    "\n",
    "# Initialize class\n",
    "stats = Stats()\n",
    "plot = Plots()"
   ]
  },
  {
   "cell_type": "code",
   "outputs": [
    {
     "data": {
      "text/plain": "                                                              description  \\\ndataset                                                                     \nancova                    Teaching method with family income as covariate   \nanova                                       Pain threshold per hair color   \nanova2                            Fertilizer impact on the yield of crops   \nanova2_unbalanced                                Diet and exercise impact   \nanova3                                    Cholesterol in different groups   \nanova3_unbalanced                         Cholesterol in different groups   \nblandaltman             Hypothetical data of an agreement between two ...   \nchi2_independence               Patients' attributes and heart conditions   \nchi2_mcnemar                     Responses to 2 athlete's foot treatments   \ncircular                   Orientation tuning properties of three neurons   \ncochran                                    Energy level across three days   \ncronbach_alpha                                      Questionnaire ratings   \ncronbach_wide_missing   Questionnaire rating (binary) in wide format a...   \nicc                                       Wine quality rating by 4 judges   \nmediation                                              Mediation analysis   \nmixed_anova              Memory scores in two groups at three time points   \nmixed_anova_unbalanced  Memory scores in three groups at four time points   \nmultivariate            Multivariate health outcomes in drug and place...   \npairwise_corr                                    Big 5 personality traits   \npairwise_tests                         Scores at 3 time points per gender   \npairwise_tests_missing        Scores at 3 time points with missing values   \npartial_corr                                      Scores at 4 time points   \npenguins                Flipper length and boody mass for different sp...   \nrm_anova                                         Hostility towards insect   \nrm_anova_wide                                     Scores at 4 time points   \nrm_anova2               Performance of employees at two time points an...   \nrm_corr                             Repeated measurements of pH and PaCO2   \nrm_missing              Missing values in long-format repeated measure...   \ntips                    One waiter recorded information about each tip...   \n\n                                               useful  \\\ndataset                                                 \nancova                                         ANCOVA   \nanova                          anova - pairwise_tukey   \nanova2                                          anova   \nanova2_unbalanced                               anova   \nanova3                                          anova   \nanova3_unbalanced                               anova   \nblandaltman                          plot_blandaltman   \nchi2_independence                   chi2_independence   \nchi2_mcnemar                             chi2_mcnemar   \ncircular                          circular statistics   \ncochran                                       Cochran   \ncronbach_alpha                         cronbach_alpha   \ncronbach_wide_missing                  cronbach_alpha   \nicc                                   intraclass_corr   \nmediation               linear_regression - mediation   \nmixed_anova                               mixed_anova   \nmixed_anova_unbalanced                    mixed_anova   \nmultivariate                  multivariate statistics   \npairwise_corr                    corr - pairwise_corr   \npairwise_tests                         pairwise_tests   \npairwise_tests_missing                 pairwise_tests   \npartial_corr                             partial_corr   \npenguins                                  everything!   \nrm_anova                       rm_anova - mixed_anova   \nrm_anova_wide                                rm_anova   \nrm_anova2                                   rm_anova2   \nrm_corr                                       rm_corr   \nrm_missing                       rm_anova - rm_anova2   \ntips                                       regression   \n\n                                                                      ref  \ndataset                                                                    \nancova                                            www.real-statistics.com  \nanova                                           McClave and Dietrich 1991  \nanova2                                            www.real-statistics.com  \nanova2_unbalanced       http://onlinestatbook.com/2/analysis_of_varian...  \nanova3                                                           Pingouin  \nanova3_unbalanced                                                Pingouin  \nblandaltman             https://www.biochemia-medica.com/en/journal/25...  \nchi2_independence       https://archive.ics.uci.edu/ml/datasets/Heart+...  \nchi2_mcnemar             http://www.stat.purdue.edu/~tqin/system101/me...  \ncircular                                                      Berens 2009  \ncochran                                           www.real-statistics.com  \ncronbach_alpha                                    www.real-statistics.com  \ncronbach_wide_missing                             www.real-statistics.com  \nicc                                               www.real-statistics.com  \nmediation               https://data.library.virginia.edu/introduction...  \nmixed_anova                                                      Pingouin  \nmixed_anova_unbalanced                                           Pingouin  \nmultivariate                                      www.real-statistics.com  \npairwise_corr                                            Dolan et al 2009  \npairwise_tests                                                   Pingouin  \npairwise_tests_missing                                           Pingouin  \npartial_corr                                                     Pingouin  \npenguins                   https://github.com/allisonhorst/palmerpenguins  \nrm_anova                                                  Ryan et al 2013  \nrm_anova_wide                                                    Pingouin  \nrm_anova2                                         www.real-statistics.com  \nrm_corr                                             Bland et Altmann 1995  \nrm_missing                                                       Pingouin  \ntips                     https://vincentarelbundock.github.io/Rdataset...  ",
      "text/html": "<div>\n<style scoped>\n    .dataframe tbody tr th:only-of-type {\n        vertical-align: middle;\n    }\n\n    .dataframe tbody tr th {\n        vertical-align: top;\n    }\n\n    .dataframe thead th {\n        text-align: right;\n    }\n</style>\n<table border=\"1\" class=\"dataframe\">\n  <thead>\n    <tr style=\"text-align: right;\">\n      <th></th>\n      <th>description</th>\n      <th>useful</th>\n      <th>ref</th>\n    </tr>\n    <tr>\n      <th>dataset</th>\n      <th></th>\n      <th></th>\n      <th></th>\n    </tr>\n  </thead>\n  <tbody>\n    <tr>\n      <th>ancova</th>\n      <td>Teaching method with family income as covariate</td>\n      <td>ANCOVA</td>\n      <td>www.real-statistics.com</td>\n    </tr>\n    <tr>\n      <th>anova</th>\n      <td>Pain threshold per hair color</td>\n      <td>anova - pairwise_tukey</td>\n      <td>McClave and Dietrich 1991</td>\n    </tr>\n    <tr>\n      <th>anova2</th>\n      <td>Fertilizer impact on the yield of crops</td>\n      <td>anova</td>\n      <td>www.real-statistics.com</td>\n    </tr>\n    <tr>\n      <th>anova2_unbalanced</th>\n      <td>Diet and exercise impact</td>\n      <td>anova</td>\n      <td>http://onlinestatbook.com/2/analysis_of_varian...</td>\n    </tr>\n    <tr>\n      <th>anova3</th>\n      <td>Cholesterol in different groups</td>\n      <td>anova</td>\n      <td>Pingouin</td>\n    </tr>\n    <tr>\n      <th>anova3_unbalanced</th>\n      <td>Cholesterol in different groups</td>\n      <td>anova</td>\n      <td>Pingouin</td>\n    </tr>\n    <tr>\n      <th>blandaltman</th>\n      <td>Hypothetical data of an agreement between two ...</td>\n      <td>plot_blandaltman</td>\n      <td>https://www.biochemia-medica.com/en/journal/25...</td>\n    </tr>\n    <tr>\n      <th>chi2_independence</th>\n      <td>Patients' attributes and heart conditions</td>\n      <td>chi2_independence</td>\n      <td>https://archive.ics.uci.edu/ml/datasets/Heart+...</td>\n    </tr>\n    <tr>\n      <th>chi2_mcnemar</th>\n      <td>Responses to 2 athlete's foot treatments</td>\n      <td>chi2_mcnemar</td>\n      <td>http://www.stat.purdue.edu/~tqin/system101/me...</td>\n    </tr>\n    <tr>\n      <th>circular</th>\n      <td>Orientation tuning properties of three neurons</td>\n      <td>circular statistics</td>\n      <td>Berens 2009</td>\n    </tr>\n    <tr>\n      <th>cochran</th>\n      <td>Energy level across three days</td>\n      <td>Cochran</td>\n      <td>www.real-statistics.com</td>\n    </tr>\n    <tr>\n      <th>cronbach_alpha</th>\n      <td>Questionnaire ratings</td>\n      <td>cronbach_alpha</td>\n      <td>www.real-statistics.com</td>\n    </tr>\n    <tr>\n      <th>cronbach_wide_missing</th>\n      <td>Questionnaire rating (binary) in wide format a...</td>\n      <td>cronbach_alpha</td>\n      <td>www.real-statistics.com</td>\n    </tr>\n    <tr>\n      <th>icc</th>\n      <td>Wine quality rating by 4 judges</td>\n      <td>intraclass_corr</td>\n      <td>www.real-statistics.com</td>\n    </tr>\n    <tr>\n      <th>mediation</th>\n      <td>Mediation analysis</td>\n      <td>linear_regression - mediation</td>\n      <td>https://data.library.virginia.edu/introduction...</td>\n    </tr>\n    <tr>\n      <th>mixed_anova</th>\n      <td>Memory scores in two groups at three time points</td>\n      <td>mixed_anova</td>\n      <td>Pingouin</td>\n    </tr>\n    <tr>\n      <th>mixed_anova_unbalanced</th>\n      <td>Memory scores in three groups at four time points</td>\n      <td>mixed_anova</td>\n      <td>Pingouin</td>\n    </tr>\n    <tr>\n      <th>multivariate</th>\n      <td>Multivariate health outcomes in drug and place...</td>\n      <td>multivariate statistics</td>\n      <td>www.real-statistics.com</td>\n    </tr>\n    <tr>\n      <th>pairwise_corr</th>\n      <td>Big 5 personality traits</td>\n      <td>corr - pairwise_corr</td>\n      <td>Dolan et al 2009</td>\n    </tr>\n    <tr>\n      <th>pairwise_tests</th>\n      <td>Scores at 3 time points per gender</td>\n      <td>pairwise_tests</td>\n      <td>Pingouin</td>\n    </tr>\n    <tr>\n      <th>pairwise_tests_missing</th>\n      <td>Scores at 3 time points with missing values</td>\n      <td>pairwise_tests</td>\n      <td>Pingouin</td>\n    </tr>\n    <tr>\n      <th>partial_corr</th>\n      <td>Scores at 4 time points</td>\n      <td>partial_corr</td>\n      <td>Pingouin</td>\n    </tr>\n    <tr>\n      <th>penguins</th>\n      <td>Flipper length and boody mass for different sp...</td>\n      <td>everything!</td>\n      <td>https://github.com/allisonhorst/palmerpenguins</td>\n    </tr>\n    <tr>\n      <th>rm_anova</th>\n      <td>Hostility towards insect</td>\n      <td>rm_anova - mixed_anova</td>\n      <td>Ryan et al 2013</td>\n    </tr>\n    <tr>\n      <th>rm_anova_wide</th>\n      <td>Scores at 4 time points</td>\n      <td>rm_anova</td>\n      <td>Pingouin</td>\n    </tr>\n    <tr>\n      <th>rm_anova2</th>\n      <td>Performance of employees at two time points an...</td>\n      <td>rm_anova2</td>\n      <td>www.real-statistics.com</td>\n    </tr>\n    <tr>\n      <th>rm_corr</th>\n      <td>Repeated measurements of pH and PaCO2</td>\n      <td>rm_corr</td>\n      <td>Bland et Altmann 1995</td>\n    </tr>\n    <tr>\n      <th>rm_missing</th>\n      <td>Missing values in long-format repeated measure...</td>\n      <td>rm_anova - rm_anova2</td>\n      <td>Pingouin</td>\n    </tr>\n    <tr>\n      <th>tips</th>\n      <td>One waiter recorded information about each tip...</td>\n      <td>regression</td>\n      <td>https://vincentarelbundock.github.io/Rdataset...</td>\n    </tr>\n  </tbody>\n</table>\n</div>"
     },
     "execution_count": 2,
     "metadata": {},
     "output_type": "execute_result"
    }
   ],
   "source": [
    "# Remove this from tutorial when finished\n",
    "pg.list_dataset()"
   ],
   "metadata": {
    "collapsed": false,
    "ExecuteTime": {
     "end_time": "2024-04-01T10:17:17.208610Z",
     "start_time": "2024-04-01T10:17:17.202333Z"
    }
   },
   "id": "841f32cba8c70c4",
   "execution_count": 2
  },
  {
   "cell_type": "code",
   "outputs": [
    {
     "name": "stdout",
     "output_type": "stream",
     "text": [
      "List of Group names in Dataset: ['Adelie' 'Chinstrap' 'Gentoo']\n"
     ]
    },
    {
     "data": {
      "text/plain": "  species  island  bill_length_mm  bill_depth_mm  flipper_length_mm  \\\n0  Adelie  Biscoe            37.8           18.3              174.0   \n1  Adelie  Biscoe            37.7           18.7              180.0   \n2  Adelie  Biscoe            35.9           19.2              189.0   \n3  Adelie  Biscoe            38.2           18.1              185.0   \n4  Adelie  Biscoe            38.8           17.2              180.0   \n\n   body_mass_g     sex  \n0       3400.0  female  \n1       3600.0    male  \n2       3800.0  female  \n3       3950.0    male  \n4       3800.0    male  ",
      "text/html": "<div>\n<style scoped>\n    .dataframe tbody tr th:only-of-type {\n        vertical-align: middle;\n    }\n\n    .dataframe tbody tr th {\n        vertical-align: top;\n    }\n\n    .dataframe thead th {\n        text-align: right;\n    }\n</style>\n<table border=\"1\" class=\"dataframe\">\n  <thead>\n    <tr style=\"text-align: right;\">\n      <th></th>\n      <th>species</th>\n      <th>island</th>\n      <th>bill_length_mm</th>\n      <th>bill_depth_mm</th>\n      <th>flipper_length_mm</th>\n      <th>body_mass_g</th>\n      <th>sex</th>\n    </tr>\n  </thead>\n  <tbody>\n    <tr>\n      <th>0</th>\n      <td>Adelie</td>\n      <td>Biscoe</td>\n      <td>37.8</td>\n      <td>18.3</td>\n      <td>174.0</td>\n      <td>3400.0</td>\n      <td>female</td>\n    </tr>\n    <tr>\n      <th>1</th>\n      <td>Adelie</td>\n      <td>Biscoe</td>\n      <td>37.7</td>\n      <td>18.7</td>\n      <td>180.0</td>\n      <td>3600.0</td>\n      <td>male</td>\n    </tr>\n    <tr>\n      <th>2</th>\n      <td>Adelie</td>\n      <td>Biscoe</td>\n      <td>35.9</td>\n      <td>19.2</td>\n      <td>189.0</td>\n      <td>3800.0</td>\n      <td>female</td>\n    </tr>\n    <tr>\n      <th>3</th>\n      <td>Adelie</td>\n      <td>Biscoe</td>\n      <td>38.2</td>\n      <td>18.1</td>\n      <td>185.0</td>\n      <td>3950.0</td>\n      <td>male</td>\n    </tr>\n    <tr>\n      <th>4</th>\n      <td>Adelie</td>\n      <td>Biscoe</td>\n      <td>38.8</td>\n      <td>17.2</td>\n      <td>180.0</td>\n      <td>3800.0</td>\n      <td>male</td>\n    </tr>\n  </tbody>\n</table>\n</div>"
     },
     "execution_count": 3,
     "metadata": {},
     "output_type": "execute_result"
    }
   ],
   "source": [
    "## List Datasets available from Pingouin\n",
    "# pg.list_dataset()\n",
    "\n",
    "# Read Dataset\n",
    "df = pg.read_dataset('penguins')\n",
    "data = df\n",
    "print('List of Group names in Dataset:', data['species'].unique())\n",
    "data.head()"
   ],
   "metadata": {
    "collapsed": false,
    "ExecuteTime": {
     "end_time": "2024-04-01T10:17:17.215926Z",
     "start_time": "2024-04-01T10:17:17.209261Z"
    }
   },
   "id": "fd69c83e0c7c4b0e",
   "execution_count": 3
  },
  {
   "cell_type": "markdown",
   "source": [
    "## Visualize Dataset"
   ],
   "metadata": {
    "collapsed": false
   },
   "id": "6a54ab3a4a9ff776"
  },
  {
   "cell_type": "code",
   "outputs": [
    {
     "data": {
      "text/plain": "               W   pval  normal\nspecies                        \nAdelie     0.981  0.032   False\nChinstrap  0.984  0.561    True\nGentoo     0.986  0.234    True",
      "text/html": "<div>\n<style scoped>\n    .dataframe tbody tr th:only-of-type {\n        vertical-align: middle;\n    }\n\n    .dataframe tbody tr th {\n        vertical-align: top;\n    }\n\n    .dataframe thead th {\n        text-align: right;\n    }\n</style>\n<table border=\"1\" class=\"dataframe\">\n  <thead>\n    <tr style=\"text-align: right;\">\n      <th></th>\n      <th>W</th>\n      <th>pval</th>\n      <th>normal</th>\n    </tr>\n    <tr>\n      <th>species</th>\n      <th></th>\n      <th></th>\n      <th></th>\n    </tr>\n  </thead>\n  <tbody>\n    <tr>\n      <th>Adelie</th>\n      <td>0.981</td>\n      <td>0.032</td>\n      <td>False</td>\n    </tr>\n    <tr>\n      <th>Chinstrap</th>\n      <td>0.984</td>\n      <td>0.561</td>\n      <td>True</td>\n    </tr>\n    <tr>\n      <th>Gentoo</th>\n      <td>0.986</td>\n      <td>0.234</td>\n      <td>True</td>\n    </tr>\n  </tbody>\n</table>\n</div>"
     },
     "execution_count": 4,
     "metadata": {},
     "output_type": "execute_result"
    }
   ],
   "source": [
    "# Test for normality\n",
    "stats.get_normality(data, value_col='body_mass_g', group_col='species').round(3)"
   ],
   "metadata": {
    "collapsed": false,
    "ExecuteTime": {
     "end_time": "2024-04-01T10:17:17.223722Z",
     "start_time": "2024-04-01T10:17:17.216916Z"
    }
   },
   "id": "45cf4ebadee59202",
   "execution_count": 4
  },
  {
   "cell_type": "code",
   "outputs": [
    {
     "data": {
      "text/plain": "         W  pval  equal_var\nlevene NaN   NaN      False",
      "text/html": "<div>\n<style scoped>\n    .dataframe tbody tr th:only-of-type {\n        vertical-align: middle;\n    }\n\n    .dataframe tbody tr th {\n        vertical-align: top;\n    }\n\n    .dataframe thead th {\n        text-align: right;\n    }\n</style>\n<table border=\"1\" class=\"dataframe\">\n  <thead>\n    <tr style=\"text-align: right;\">\n      <th></th>\n      <th>W</th>\n      <th>pval</th>\n      <th>equal_var</th>\n    </tr>\n  </thead>\n  <tbody>\n    <tr>\n      <th>levene</th>\n      <td>NaN</td>\n      <td>NaN</td>\n      <td>False</td>\n    </tr>\n  </tbody>\n</table>\n</div>"
     },
     "execution_count": 5,
     "metadata": {},
     "output_type": "execute_result"
    }
   ],
   "source": [
    "stats.get_homoscedasticity(data, value_col='body_mass_g', group_col='species').round(3)"
   ],
   "metadata": {
    "collapsed": false,
    "ExecuteTime": {
     "end_time": "2024-04-01T10:17:17.230117Z",
     "start_time": "2024-04-01T10:17:17.225266Z"
    }
   },
   "id": "85a60a893916413e",
   "execution_count": 5
  },
  {
   "cell_type": "markdown",
   "source": [
    "# Tukey"
   ],
   "metadata": {
    "collapsed": false
   },
   "id": "44b16c88076ddad3"
  },
  {
   "cell_type": "code",
   "outputs": [
    {
     "data": {
      "text/plain": "           A          B    mean(A)    mean(B)      diff       se        T  \\\n0     Adelie  Chinstrap  3700.6623  3733.0882   -32.426  67.5117  -0.4803   \n1     Adelie     Gentoo  3700.6623  5076.0163 -1375.354  56.1480 -24.4952   \n2  Chinstrap     Gentoo  3733.0882  5076.0163 -1342.928  69.8569 -19.2240   \n\n   p-tukey  hedges significance  \n0   0.8807 -0.0739         n.s.  \n1   0.0000 -2.8602         ****  \n2   0.0000 -2.8753         ****  ",
      "text/html": "<div>\n<style scoped>\n    .dataframe tbody tr th:only-of-type {\n        vertical-align: middle;\n    }\n\n    .dataframe tbody tr th {\n        vertical-align: top;\n    }\n\n    .dataframe thead th {\n        text-align: right;\n    }\n</style>\n<table border=\"1\" class=\"dataframe\">\n  <thead>\n    <tr style=\"text-align: right;\">\n      <th></th>\n      <th>A</th>\n      <th>B</th>\n      <th>mean(A)</th>\n      <th>mean(B)</th>\n      <th>diff</th>\n      <th>se</th>\n      <th>T</th>\n      <th>p-tukey</th>\n      <th>hedges</th>\n      <th>significance</th>\n    </tr>\n  </thead>\n  <tbody>\n    <tr>\n      <th>0</th>\n      <td>Adelie</td>\n      <td>Chinstrap</td>\n      <td>3700.6623</td>\n      <td>3733.0882</td>\n      <td>-32.426</td>\n      <td>67.5117</td>\n      <td>-0.4803</td>\n      <td>0.8807</td>\n      <td>-0.0739</td>\n      <td>n.s.</td>\n    </tr>\n    <tr>\n      <th>1</th>\n      <td>Adelie</td>\n      <td>Gentoo</td>\n      <td>3700.6623</td>\n      <td>5076.0163</td>\n      <td>-1375.354</td>\n      <td>56.1480</td>\n      <td>-24.4952</td>\n      <td>0.0000</td>\n      <td>-2.8602</td>\n      <td>****</td>\n    </tr>\n    <tr>\n      <th>2</th>\n      <td>Chinstrap</td>\n      <td>Gentoo</td>\n      <td>3733.0882</td>\n      <td>5076.0163</td>\n      <td>-1342.928</td>\n      <td>69.8569</td>\n      <td>-19.2240</td>\n      <td>0.0000</td>\n      <td>-2.8753</td>\n      <td>****</td>\n    </tr>\n  </tbody>\n</table>\n</div>"
     },
     "execution_count": 6,
     "metadata": {},
     "output_type": "execute_result"
    }
   ],
   "source": [
    "tukey = stats.get_tukey(data, value_col='body_mass_g', group_col='species').round(4)\n",
    "tukey"
   ],
   "metadata": {
    "collapsed": false,
    "ExecuteTime": {
     "end_time": "2024-04-01T10:17:17.285632Z",
     "start_time": "2024-04-01T10:17:17.230847Z"
    }
   },
   "id": "b7276b2e7a036ab7",
   "execution_count": 6
  },
  {
   "cell_type": "markdown",
   "source": [
    "# Welch ANOVA"
   ],
   "metadata": {
    "collapsed": false
   },
   "id": "c142ea06967aee30"
  },
  {
   "cell_type": "code",
   "outputs": [
    {
     "data": {
      "text/plain": "    Source  ddof1       ddof2           F         p-unc       np2 significance\n0  species      2  189.478413  317.572267  3.093701e-61  0.669672         ****",
      "text/html": "<div>\n<style scoped>\n    .dataframe tbody tr th:only-of-type {\n        vertical-align: middle;\n    }\n\n    .dataframe tbody tr th {\n        vertical-align: top;\n    }\n\n    .dataframe thead th {\n        text-align: right;\n    }\n</style>\n<table border=\"1\" class=\"dataframe\">\n  <thead>\n    <tr style=\"text-align: right;\">\n      <th></th>\n      <th>Source</th>\n      <th>ddof1</th>\n      <th>ddof2</th>\n      <th>F</th>\n      <th>p-unc</th>\n      <th>np2</th>\n      <th>significance</th>\n    </tr>\n  </thead>\n  <tbody>\n    <tr>\n      <th>0</th>\n      <td>species</td>\n      <td>2</td>\n      <td>189.478413</td>\n      <td>317.572267</td>\n      <td>3.093701e-61</td>\n      <td>0.669672</td>\n      <td>****</td>\n    </tr>\n  </tbody>\n</table>\n</div>"
     },
     "execution_count": 7,
     "metadata": {},
     "output_type": "execute_result"
    }
   ],
   "source": [
    "# welch = stats.get_welch_anova(data, value_col='body_mass_g', group_col='species').round(4)\n",
    "welch = stats.get_welch_anova(data, value_col='body_mass_g', group_col='species')\n",
    "welch"
   ],
   "metadata": {
    "collapsed": false,
    "ExecuteTime": {
     "end_time": "2024-04-01T10:17:17.293753Z",
     "start_time": "2024-04-01T10:17:17.286493Z"
    }
   },
   "id": "5f36e4912b094887",
   "execution_count": 7
  },
  {
   "cell_type": "markdown",
   "source": [
    "Perform test for gameshowell\n",
    "\n",
    "if i cannot change the plot order, add the pair_df code from tukey into gameshowell. Perhaps add it for other post-hoc tests?"
   ],
   "metadata": {
    "collapsed": false
   },
   "id": "24db12cd624cade0"
  },
  {
   "cell_type": "code",
   "outputs": [
    {
     "data": {
      "text/plain": "           A          B      mean(A)      mean(B)         diff         se  \\\n0     Adelie  Chinstrap  3700.662252  3733.088235   -32.425984  59.706437   \n1     Adelie     Gentoo  3700.662252  5076.016260 -1375.354009  58.810929   \n2  Chinstrap     Gentoo  3733.088235  5076.016260 -1342.928025  65.102843   \n\n           T          df      pval    hedges significance  \n0  -0.543090  152.454796  0.850154 -0.073946         n.s.  \n1 -23.386028  249.642554  0.000000 -2.860201         ****  \n2 -20.627794  170.404362  0.000000 -2.875327         ****  ",
      "text/html": "<div>\n<style scoped>\n    .dataframe tbody tr th:only-of-type {\n        vertical-align: middle;\n    }\n\n    .dataframe tbody tr th {\n        vertical-align: top;\n    }\n\n    .dataframe thead th {\n        text-align: right;\n    }\n</style>\n<table border=\"1\" class=\"dataframe\">\n  <thead>\n    <tr style=\"text-align: right;\">\n      <th></th>\n      <th>A</th>\n      <th>B</th>\n      <th>mean(A)</th>\n      <th>mean(B)</th>\n      <th>diff</th>\n      <th>se</th>\n      <th>T</th>\n      <th>df</th>\n      <th>pval</th>\n      <th>hedges</th>\n      <th>significance</th>\n    </tr>\n  </thead>\n  <tbody>\n    <tr>\n      <th>0</th>\n      <td>Adelie</td>\n      <td>Chinstrap</td>\n      <td>3700.662252</td>\n      <td>3733.088235</td>\n      <td>-32.425984</td>\n      <td>59.706437</td>\n      <td>-0.543090</td>\n      <td>152.454796</td>\n      <td>0.850154</td>\n      <td>-0.073946</td>\n      <td>n.s.</td>\n    </tr>\n    <tr>\n      <th>1</th>\n      <td>Adelie</td>\n      <td>Gentoo</td>\n      <td>3700.662252</td>\n      <td>5076.016260</td>\n      <td>-1375.354009</td>\n      <td>58.810929</td>\n      <td>-23.386028</td>\n      <td>249.642554</td>\n      <td>0.000000</td>\n      <td>-2.860201</td>\n      <td>****</td>\n    </tr>\n    <tr>\n      <th>2</th>\n      <td>Chinstrap</td>\n      <td>Gentoo</td>\n      <td>3733.088235</td>\n      <td>5076.016260</td>\n      <td>-1342.928025</td>\n      <td>65.102843</td>\n      <td>-20.627794</td>\n      <td>170.404362</td>\n      <td>0.000000</td>\n      <td>-2.875327</td>\n      <td>****</td>\n    </tr>\n  </tbody>\n</table>\n</div>"
     },
     "execution_count": 8,
     "metadata": {},
     "output_type": "execute_result"
    }
   ],
   "source": [
    "gameshowell = stats.get_gameshowell(data, value_col='body_mass_g', group_col='species')\n",
    "gameshowell"
   ],
   "metadata": {
    "collapsed": false,
    "ExecuteTime": {
     "end_time": "2024-04-01T10:17:17.339213Z",
     "start_time": "2024-04-01T10:17:17.294623Z"
    }
   },
   "id": "d72ecb30c0fd24f4",
   "execution_count": 8
  },
  {
   "cell_type": "code",
   "outputs": [
    {
     "data": {
      "text/plain": "           A       B      mean(A)     mean(B)         diff         se  \\\n1  Chinstrap  Gentoo  3733.088235  5076.01626 -1342.928025  65.102843   \n0     Adelie  Gentoo  3700.662252  5076.01626 -1375.354009  58.810929   \n\n           T          df  pval    hedges significance  \n1 -20.627794  170.404362   0.0 -2.875327         ****  \n0 -23.386028  249.642554   0.0 -2.860201         ****  ",
      "text/html": "<div>\n<style scoped>\n    .dataframe tbody tr th:only-of-type {\n        vertical-align: middle;\n    }\n\n    .dataframe tbody tr th {\n        vertical-align: top;\n    }\n\n    .dataframe thead th {\n        text-align: right;\n    }\n</style>\n<table border=\"1\" class=\"dataframe\">\n  <thead>\n    <tr style=\"text-align: right;\">\n      <th></th>\n      <th>A</th>\n      <th>B</th>\n      <th>mean(A)</th>\n      <th>mean(B)</th>\n      <th>diff</th>\n      <th>se</th>\n      <th>T</th>\n      <th>df</th>\n      <th>pval</th>\n      <th>hedges</th>\n      <th>significance</th>\n    </tr>\n  </thead>\n  <tbody>\n    <tr>\n      <th>1</th>\n      <td>Chinstrap</td>\n      <td>Gentoo</td>\n      <td>3733.088235</td>\n      <td>5076.01626</td>\n      <td>-1342.928025</td>\n      <td>65.102843</td>\n      <td>-20.627794</td>\n      <td>170.404362</td>\n      <td>0.0</td>\n      <td>-2.875327</td>\n      <td>****</td>\n    </tr>\n    <tr>\n      <th>0</th>\n      <td>Adelie</td>\n      <td>Gentoo</td>\n      <td>3700.662252</td>\n      <td>5076.01626</td>\n      <td>-1375.354009</td>\n      <td>58.810929</td>\n      <td>-23.386028</td>\n      <td>249.642554</td>\n      <td>0.0</td>\n      <td>-2.860201</td>\n      <td>****</td>\n    </tr>\n  </tbody>\n</table>\n</div>"
     },
     "execution_count": 9,
     "metadata": {},
     "output_type": "execute_result"
    },
    {
     "data": {
      "text/plain": "<Figure size 640x480 with 1 Axes>",
      "image/png": "[encoded data removed]"
     },
     "metadata": {},
     "output_type": "display_data"
    }
   ],
   "source": [
    "pairs=[('Gentoo', 'Chinstrap'), ('Adelie', 'Gentoo')]\n",
    "\n",
    "plot.bar_plot(data=data, test='gameshowell', value_col='body_mass_g', group_col='species', title='Games-Howell Results Bar Plot', title_fontsize=30, palette='RdYlGn', return_df=True, pairs=pairs)"
   ],
   "metadata": {
    "collapsed": false,
    "ExecuteTime": {
     "end_time": "2024-04-01T10:17:17.632541Z",
     "start_time": "2024-04-01T10:17:17.340024Z"
    }
   },
   "id": "213702e86ffbb96f",
   "execution_count": 9
  },
  {
   "cell_type": "markdown",
   "source": [
    "Repeated Measures"
   ],
   "metadata": {
    "collapsed": false
   },
   "id": "1efb20e99c35d2a6"
  },
  {
   "cell_type": "code",
   "outputs": [
    {
     "data": {
      "text/plain": "   Subject  Gender Region Education  DesireToKill Disgustingness  \\\n0        1  Female  North      some          10.0           High   \n1        1  Female  North      some           9.0           High   \n2        1  Female  North      some           6.0            Low   \n3        1  Female  North      some           6.0            Low   \n4        2  Female  North   advance          10.0           High   \n\n  Frighteningness  \n0            High  \n1             Low  \n2            High  \n3             Low  \n4            High  ",
      "text/html": "<div>\n<style scoped>\n    .dataframe tbody tr th:only-of-type {\n        vertical-align: middle;\n    }\n\n    .dataframe tbody tr th {\n        vertical-align: top;\n    }\n\n    .dataframe thead th {\n        text-align: right;\n    }\n</style>\n<table border=\"1\" class=\"dataframe\">\n  <thead>\n    <tr style=\"text-align: right;\">\n      <th></th>\n      <th>Subject</th>\n      <th>Gender</th>\n      <th>Region</th>\n      <th>Education</th>\n      <th>DesireToKill</th>\n      <th>Disgustingness</th>\n      <th>Frighteningness</th>\n    </tr>\n  </thead>\n  <tbody>\n    <tr>\n      <th>0</th>\n      <td>1</td>\n      <td>Female</td>\n      <td>North</td>\n      <td>some</td>\n      <td>10.0</td>\n      <td>High</td>\n      <td>High</td>\n    </tr>\n    <tr>\n      <th>1</th>\n      <td>1</td>\n      <td>Female</td>\n      <td>North</td>\n      <td>some</td>\n      <td>9.0</td>\n      <td>High</td>\n      <td>Low</td>\n    </tr>\n    <tr>\n      <th>2</th>\n      <td>1</td>\n      <td>Female</td>\n      <td>North</td>\n      <td>some</td>\n      <td>6.0</td>\n      <td>Low</td>\n      <td>High</td>\n    </tr>\n    <tr>\n      <th>3</th>\n      <td>1</td>\n      <td>Female</td>\n      <td>North</td>\n      <td>some</td>\n      <td>6.0</td>\n      <td>Low</td>\n      <td>Low</td>\n    </tr>\n    <tr>\n      <th>4</th>\n      <td>2</td>\n      <td>Female</td>\n      <td>North</td>\n      <td>advance</td>\n      <td>10.0</td>\n      <td>High</td>\n      <td>High</td>\n    </tr>\n  </tbody>\n</table>\n</div>"
     },
     "execution_count": 10,
     "metadata": {},
     "output_type": "execute_result"
    }
   ],
   "source": [
    "data = pg.read_dataset('rm_anova')\n",
    "data.head()"
   ],
   "metadata": {
    "collapsed": false,
    "ExecuteTime": {
     "end_time": "2024-04-01T10:17:17.644340Z",
     "start_time": "2024-04-01T10:17:17.634708Z"
    }
   },
   "id": "1e041f456070b179",
   "execution_count": 10
  },
  {
   "cell_type": "code",
   "outputs": [
    {
     "data": {
      "text/plain": "           Source  ddof1  ddof2          F     p-unc       ng2  eps  \\\n0  Disgustingness      1     91  11.876684  0.000862  0.025827  1.0   \n\n  significance  \n0          ***  ",
      "text/html": "<div>\n<style scoped>\n    .dataframe tbody tr th:only-of-type {\n        vertical-align: middle;\n    }\n\n    .dataframe tbody tr th {\n        vertical-align: top;\n    }\n\n    .dataframe thead th {\n        text-align: right;\n    }\n</style>\n<table border=\"1\" class=\"dataframe\">\n  <thead>\n    <tr style=\"text-align: right;\">\n      <th></th>\n      <th>Source</th>\n      <th>ddof1</th>\n      <th>ddof2</th>\n      <th>F</th>\n      <th>p-unc</th>\n      <th>ng2</th>\n      <th>eps</th>\n      <th>significance</th>\n    </tr>\n  </thead>\n  <tbody>\n    <tr>\n      <th>0</th>\n      <td>Disgustingness</td>\n      <td>1</td>\n      <td>91</td>\n      <td>11.876684</td>\n      <td>0.000862</td>\n      <td>0.025827</td>\n      <td>1.0</td>\n      <td>***</td>\n    </tr>\n  </tbody>\n</table>\n</div>"
     },
     "execution_count": 11,
     "metadata": {},
     "output_type": "execute_result"
    }
   ],
   "source": [
    "data.dropna(subset=['Gender'], inplace=True)\n",
    "repeated_measures = stats.get_rm_anova(data, value_col='DesireToKill', group_col='Disgustingness', subject_col='Subject')\n",
    "repeated_measures"
   ],
   "metadata": {
    "collapsed": false,
    "ExecuteTime": {
     "end_time": "2024-04-01T10:17:17.669530Z",
     "start_time": "2024-04-01T10:17:17.645617Z"
    }
   },
   "id": "7233aba8e341327f",
   "execution_count": 11
  },
  {
   "cell_type": "markdown",
   "source": [
    "# Pairwise T-Tests"
   ],
   "metadata": {
    "collapsed": false
   },
   "id": "e8448ead0e99305a"
  },
  {
   "cell_type": "code",
   "outputs": [
    {
     "data": {
      "text/plain": "         Contrast     A    B  Paired  Parametric         T        dof  \\\n0  Disgustingness  High  Low   False        True  2.595165  360.18469   \n\n  alternative     p-unc   BF10    hedges significance  \n0   two-sided  0.009841  2.899  0.271888           **  ",
      "text/html": "<div>\n<style scoped>\n    .dataframe tbody tr th:only-of-type {\n        vertical-align: middle;\n    }\n\n    .dataframe tbody tr th {\n        vertical-align: top;\n    }\n\n    .dataframe thead th {\n        text-align: right;\n    }\n</style>\n<table border=\"1\" class=\"dataframe\">\n  <thead>\n    <tr style=\"text-align: right;\">\n      <th></th>\n      <th>Contrast</th>\n      <th>A</th>\n      <th>B</th>\n      <th>Paired</th>\n      <th>Parametric</th>\n      <th>T</th>\n      <th>dof</th>\n      <th>alternative</th>\n      <th>p-unc</th>\n      <th>BF10</th>\n      <th>hedges</th>\n      <th>significance</th>\n    </tr>\n  </thead>\n  <tbody>\n    <tr>\n      <th>0</th>\n      <td>Disgustingness</td>\n      <td>High</td>\n      <td>Low</td>\n      <td>False</td>\n      <td>True</td>\n      <td>2.595165</td>\n      <td>360.18469</td>\n      <td>two-sided</td>\n      <td>0.009841</td>\n      <td>2.899</td>\n      <td>0.271888</td>\n      <td>**</td>\n    </tr>\n  </tbody>\n</table>\n</div>"
     },
     "execution_count": 12,
     "metadata": {},
     "output_type": "execute_result"
    }
   ],
   "source": [
    "pairwise_test = stats.get_pairwise_tests(data, value_col='DesireToKill', group_col='Disgustingness', subject_col='Subject')\n",
    "pairwise_test"
   ],
   "metadata": {
    "collapsed": false,
    "ExecuteTime": {
     "end_time": "2024-04-01T10:17:17.681420Z",
     "start_time": "2024-04-01T10:17:17.670303Z"
    }
   },
   "id": "513cc3a8bc7c1a02",
   "execution_count": 12
  },
  {
   "cell_type": "code",
   "outputs": [
    {
     "data": {
      "text/plain": "         Contrast     A    B  Paired  Parametric         T        dof  \\\n0  Disgustingness  High  Low   False        True  2.595165  360.18469   \n\n  alternative     p-unc   BF10    hedges significance  \n0   two-sided  0.009841  2.899  0.271888           **  ",
      "text/html": "<div>\n<style scoped>\n    .dataframe tbody tr th:only-of-type {\n        vertical-align: middle;\n    }\n\n    .dataframe tbody tr th {\n        vertical-align: top;\n    }\n\n    .dataframe thead th {\n        text-align: right;\n    }\n</style>\n<table border=\"1\" class=\"dataframe\">\n  <thead>\n    <tr style=\"text-align: right;\">\n      <th></th>\n      <th>Contrast</th>\n      <th>A</th>\n      <th>B</th>\n      <th>Paired</th>\n      <th>Parametric</th>\n      <th>T</th>\n      <th>dof</th>\n      <th>alternative</th>\n      <th>p-unc</th>\n      <th>BF10</th>\n      <th>hedges</th>\n      <th>significance</th>\n    </tr>\n  </thead>\n  <tbody>\n    <tr>\n      <th>0</th>\n      <td>Disgustingness</td>\n      <td>High</td>\n      <td>Low</td>\n      <td>False</td>\n      <td>True</td>\n      <td>2.595165</td>\n      <td>360.18469</td>\n      <td>two-sided</td>\n      <td>0.009841</td>\n      <td>2.899</td>\n      <td>0.271888</td>\n      <td>**</td>\n    </tr>\n  </tbody>\n</table>\n</div>"
     },
     "execution_count": 13,
     "metadata": {},
     "output_type": "execute_result"
    },
    {
     "data": {
      "text/plain": "<Figure size 640x480 with 1 Axes>",
      "image/png": "[encoded data removed]"
     },
     "metadata": {},
     "output_type": "display_data"
    }
   ],
   "source": [
    "plot.bar_plot(data=data, test='pairwise-parametric', value_col='DesireToKill', group_col='Disgustingness', subject_col='Subject', title='Pairwise T-Test Results Bar Plot', title_fontsize=30, palette='RdYlGn', return_df=True)"
   ],
   "metadata": {
    "collapsed": false,
    "ExecuteTime": {
     "end_time": "2024-04-01T10:17:17.776443Z",
     "start_time": "2024-04-01T10:17:17.681967Z"
    }
   },
   "id": "ba15bf6cd980f049",
   "execution_count": 13
  },
  {
   "cell_type": "markdown",
   "source": [
    "# Mixed ANOVA"
   ],
   "metadata": {
    "collapsed": false
   },
   "id": "4e28273ab914da32"
  },
  {
   "cell_type": "code",
   "outputs": [
    {
     "data": {
      "text/plain": "       Scores    Time       Group  Subject\n0    5.971435  August     Control        0\n1    4.309024  August     Control        1\n2    6.932707  August     Control        2\n3    5.187348  August     Control        3\n4    4.779411  August     Control        4\n..        ...     ...         ...      ...\n175  6.176981    June  Meditation       55\n176  8.523692    June  Meditation       56\n177  6.522273    June  Meditation       57\n178  4.990568    June  Meditation       58\n179  7.822986    June  Meditation       59\n\n[180 rows x 4 columns]",
      "text/html": "<div>\n<style scoped>\n    .dataframe tbody tr th:only-of-type {\n        vertical-align: middle;\n    }\n\n    .dataframe tbody tr th {\n        vertical-align: top;\n    }\n\n    .dataframe thead th {\n        text-align: right;\n    }\n</style>\n<table border=\"1\" class=\"dataframe\">\n  <thead>\n    <tr style=\"text-align: right;\">\n      <th></th>\n      <th>Scores</th>\n      <th>Time</th>\n      <th>Group</th>\n      <th>Subject</th>\n    </tr>\n  </thead>\n  <tbody>\n    <tr>\n      <th>0</th>\n      <td>5.971435</td>\n      <td>August</td>\n      <td>Control</td>\n      <td>0</td>\n    </tr>\n    <tr>\n      <th>1</th>\n      <td>4.309024</td>\n      <td>August</td>\n      <td>Control</td>\n      <td>1</td>\n    </tr>\n    <tr>\n      <th>2</th>\n      <td>6.932707</td>\n      <td>August</td>\n      <td>Control</td>\n      <td>2</td>\n    </tr>\n    <tr>\n      <th>3</th>\n      <td>5.187348</td>\n      <td>August</td>\n      <td>Control</td>\n      <td>3</td>\n    </tr>\n    <tr>\n      <th>4</th>\n      <td>4.779411</td>\n      <td>August</td>\n      <td>Control</td>\n      <td>4</td>\n    </tr>\n    <tr>\n      <th>...</th>\n      <td>...</td>\n      <td>...</td>\n      <td>...</td>\n      <td>...</td>\n    </tr>\n    <tr>\n      <th>175</th>\n      <td>6.176981</td>\n      <td>June</td>\n      <td>Meditation</td>\n      <td>55</td>\n    </tr>\n    <tr>\n      <th>176</th>\n      <td>8.523692</td>\n      <td>June</td>\n      <td>Meditation</td>\n      <td>56</td>\n    </tr>\n    <tr>\n      <th>177</th>\n      <td>6.522273</td>\n      <td>June</td>\n      <td>Meditation</td>\n      <td>57</td>\n    </tr>\n    <tr>\n      <th>178</th>\n      <td>4.990568</td>\n      <td>June</td>\n      <td>Meditation</td>\n      <td>58</td>\n    </tr>\n    <tr>\n      <th>179</th>\n      <td>7.822986</td>\n      <td>June</td>\n      <td>Meditation</td>\n      <td>59</td>\n    </tr>\n  </tbody>\n</table>\n<p>180 rows × 4 columns</p>\n</div>"
     },
     "execution_count": 14,
     "metadata": {},
     "output_type": "execute_result"
    }
   ],
   "source": [
    "data = pg.read_dataset('mixed_anova')\n",
    "data"
   ],
   "metadata": {
    "collapsed": false,
    "ExecuteTime": {
     "end_time": "2024-04-01T10:17:17.785020Z",
     "start_time": "2024-04-01T10:17:17.778985Z"
    }
   },
   "id": "8bf97ef742a1d944",
   "execution_count": 14
  },
  {
   "cell_type": "code",
   "outputs": [
    {
     "data": {
      "text/plain": "        Source        SS  DF1  DF2        MS         F     p-unc       np2  \\\n0        Group  5.459963    1   58  5.459963  5.051709  0.028420  0.080120   \n1         Time  7.628428    2  116  3.814214  4.027394  0.020369  0.064929   \n2  Interaction  5.167192    2  116  2.583596  2.727996  0.069545  0.044922   \n\n        eps  \n0       NaN  \n1  0.998751  \n2       NaN  ",
      "text/html": "<div>\n<style scoped>\n    .dataframe tbody tr th:only-of-type {\n        vertical-align: middle;\n    }\n\n    .dataframe tbody tr th {\n        vertical-align: top;\n    }\n\n    .dataframe thead th {\n        text-align: right;\n    }\n</style>\n<table border=\"1\" class=\"dataframe\">\n  <thead>\n    <tr style=\"text-align: right;\">\n      <th></th>\n      <th>Source</th>\n      <th>SS</th>\n      <th>DF1</th>\n      <th>DF2</th>\n      <th>MS</th>\n      <th>F</th>\n      <th>p-unc</th>\n      <th>np2</th>\n      <th>eps</th>\n    </tr>\n  </thead>\n  <tbody>\n    <tr>\n      <th>0</th>\n      <td>Group</td>\n      <td>5.459963</td>\n      <td>1</td>\n      <td>58</td>\n      <td>5.459963</td>\n      <td>5.051709</td>\n      <td>0.028420</td>\n      <td>0.080120</td>\n      <td>NaN</td>\n    </tr>\n    <tr>\n      <th>1</th>\n      <td>Time</td>\n      <td>7.628428</td>\n      <td>2</td>\n      <td>116</td>\n      <td>3.814214</td>\n      <td>4.027394</td>\n      <td>0.020369</td>\n      <td>0.064929</td>\n      <td>0.998751</td>\n    </tr>\n    <tr>\n      <th>2</th>\n      <td>Interaction</td>\n      <td>5.167192</td>\n      <td>2</td>\n      <td>116</td>\n      <td>2.583596</td>\n      <td>2.727996</td>\n      <td>0.069545</td>\n      <td>0.044922</td>\n      <td>NaN</td>\n    </tr>\n  </tbody>\n</table>\n</div>"
     },
     "execution_count": 15,
     "metadata": {},
     "output_type": "execute_result"
    }
   ],
   "source": [
    "aov = pg.mixed_anova(dv='Scores', between='Group', within='Time', subject='Subject', data=data)\n",
    "aov"
   ],
   "metadata": {
    "collapsed": false,
    "ExecuteTime": {
     "end_time": "2024-04-01T10:17:17.809688Z",
     "start_time": "2024-04-01T10:17:17.785819Z"
    }
   },
   "id": "1a30620ebc837784",
   "execution_count": 15
  },
  {
   "cell_type": "code",
   "outputs": [
    {
     "data": {
      "text/plain": "        Source        SS  DF1  DF2        MS         F     p-unc       np2  \\\n0        Group  5.459963    1   58  5.459963  5.051709  0.028420  0.080120   \n1         Time  7.628428    2  116  3.814214  4.027394  0.020369  0.064929   \n2  Interaction  5.167192    2  116  2.583596  2.727996  0.069545  0.044922   \n\n        eps significance  \n0       NaN            *  \n1  0.998751            *  \n2       NaN         n.s.  ",
      "text/html": "<div>\n<style scoped>\n    .dataframe tbody tr th:only-of-type {\n        vertical-align: middle;\n    }\n\n    .dataframe tbody tr th {\n        vertical-align: top;\n    }\n\n    .dataframe thead th {\n        text-align: right;\n    }\n</style>\n<table border=\"1\" class=\"dataframe\">\n  <thead>\n    <tr style=\"text-align: right;\">\n      <th></th>\n      <th>Source</th>\n      <th>SS</th>\n      <th>DF1</th>\n      <th>DF2</th>\n      <th>MS</th>\n      <th>F</th>\n      <th>p-unc</th>\n      <th>np2</th>\n      <th>eps</th>\n      <th>significance</th>\n    </tr>\n  </thead>\n  <tbody>\n    <tr>\n      <th>0</th>\n      <td>Group</td>\n      <td>5.459963</td>\n      <td>1</td>\n      <td>58</td>\n      <td>5.459963</td>\n      <td>5.051709</td>\n      <td>0.028420</td>\n      <td>0.080120</td>\n      <td>NaN</td>\n      <td>*</td>\n    </tr>\n    <tr>\n      <th>1</th>\n      <td>Time</td>\n      <td>7.628428</td>\n      <td>2</td>\n      <td>116</td>\n      <td>3.814214</td>\n      <td>4.027394</td>\n      <td>0.020369</td>\n      <td>0.064929</td>\n      <td>0.998751</td>\n      <td>*</td>\n    </tr>\n    <tr>\n      <th>2</th>\n      <td>Interaction</td>\n      <td>5.167192</td>\n      <td>2</td>\n      <td>116</td>\n      <td>2.583596</td>\n      <td>2.727996</td>\n      <td>0.069545</td>\n      <td>0.044922</td>\n      <td>NaN</td>\n      <td>n.s.</td>\n    </tr>\n  </tbody>\n</table>\n</div>"
     },
     "execution_count": 16,
     "metadata": {},
     "output_type": "execute_result"
    }
   ],
   "source": [
    "mixed = stats.get_mixed_anova(data, value_col='Scores', group_col='Group',within_subject_col='Time', subject_col='Subject')\n",
    "mixed"
   ],
   "metadata": {
    "collapsed": false,
    "ExecuteTime": {
     "end_time": "2024-04-01T10:17:17.832589Z",
     "start_time": "2024-04-01T10:17:17.810552Z"
    }
   },
   "id": "d7d72676d393d952",
   "execution_count": 16
  },
  {
   "cell_type": "code",
   "outputs": [
    {
     "ename": "TypeError",
     "evalue": "get_mixed_anova() missing 1 required positional argument: 'data'",
     "output_type": "error",
     "traceback": [
      "\u001B[0;31m---------------------------------------------------------------------------\u001B[0m",
      "\u001B[0;31mTypeError\u001B[0m                                 Traceback (most recent call last)",
      "Cell \u001B[0;32mIn[17], line 1\u001B[0m\n\u001B[0;32m----> 1\u001B[0m mixed \u001B[38;5;241m=\u001B[39m \u001B[43mstats\u001B[49m\u001B[38;5;241;43m.\u001B[39;49m\u001B[43mget_mixed_anova\u001B[49m\u001B[43m(\u001B[49m\u001B[43m)\u001B[49m\n",
      "\u001B[0;31mTypeError\u001B[0m: get_mixed_anova() missing 1 required positional argument: 'data'"
     ]
    }
   ],
   "source": [
    "mixed = stats.get_mixed_anova()"
   ],
   "metadata": {
    "collapsed": false,
    "ExecuteTime": {
     "end_time": "2024-04-01T10:17:17.986929Z",
     "start_time": "2024-04-01T10:17:17.833854Z"
    }
   },
   "id": "8606c7c8440748",
   "execution_count": 17
  }
 ],
 "metadata": {
  "kernelspec": {
   "display_name": "Python 3",
   "language": "python",
   "name": "python3"
  },
  "language_info": {
   "codemirror_mode": {
    "name": "ipython",
    "version": 2
   },
   "file_extension": ".py",
   "mimetype": "text/x-python",
   "name": "python",
   "nbconvert_exporter": "python",
   "pygments_lexer": "ipython2",
   "version": "2.7.6"
  }
 },
 "nbformat": 4,
 "nbformat_minor": 5
}
