{
 "cells": [
  {
   "cell_type": "markdown",
   "source": [
    "# Parametric Tutorial\n",
    "**NOTE** \n",
    "This notebook is not meant to teach statistics, but only demo how to run the py50 functions. There are plenty of resources available online. I particularly found introductory [tutorials by DATAtab](https://datatab.net/tutorial/get-started) helpful. \n",
    "\n",
    "The following page will show examples of parametric tests using the Stats() and Plots() modules of py50. There are many plot features available for py50, but they will not all be demoed here. Instead, to see all the plots available, take a look at the [006_statistics_quickstart](https://github.com/tlint101/py50/blob/main/tutorials/006_statistics_quickstart.ipynb). As py50 is built on top of Pingouin, additional examples with ANOVA tests can be found [here](https://github.com/raphaelvallat/pingouin/blob/main/notebooks/01_ANOVA.ipynb). "
   ],
   "metadata": {
    "collapsed": false
   },
   "id": "89c1123316d9123d"
  },
  {
   "cell_type": "code",
   "id": "initial_id",
   "metadata": {
    "collapsed": true,
    "ExecuteTime": {
     "end_time": "2024-04-29T03:12:18.504855Z",
     "start_time": "2024-04-29T03:12:18.381433Z"
    }
   },
   "source": [
    "from matplotlib import pyplot as plt\n",
    "from py50.stats import Stats, Plots\n",
    "import pingouin as pg"
   ],
   "outputs": [],
   "execution_count": 1
  },
  {
   "cell_type": "code",
   "source": [
    "## List Datasets available from Pingouin\n",
    "# pg.list_dataset()\n",
    "\n",
    "# Read Dataset\n",
    "df = pg.read_dataset('penguins')\n",
    "\n",
    "# Initialize Stats and Plots\n",
    "stats = Stats(df)\n",
    "plot = Plots(df)\n",
    "\n",
    "print('List of Group names in Dataset:', df['species'].unique())\n",
    "stats.show()"
   ],
   "metadata": {
    "collapsed": false,
    "ExecuteTime": {
     "end_time": "2024-04-29T03:12:18.532639Z",
     "start_time": "2024-04-29T03:12:18.508856Z"
    }
   },
   "id": "fd69c83e0c7c4b0e",
   "outputs": [
    {
     "name": "stdout",
     "output_type": "stream",
     "text": [
      "List of Group names in Dataset: ['Adelie' 'Chinstrap' 'Gentoo']\n"
     ]
    },
    {
     "data": {
      "text/plain": [
       "  species  island  bill_length_mm  bill_depth_mm  flipper_length_mm  \\\n",
       "0  Adelie  Biscoe            37.8           18.3              174.0   \n",
       "1  Adelie  Biscoe            37.7           18.7              180.0   \n",
       "2  Adelie  Biscoe            35.9           19.2              189.0   \n",
       "3  Adelie  Biscoe            38.2           18.1              185.0   \n",
       "4  Adelie  Biscoe            38.8           17.2              180.0   \n",
       "\n",
       "   body_mass_g     sex  \n",
       "0       3400.0  female  \n",
       "1       3600.0    male  \n",
       "2       3800.0  female  \n",
       "3       3950.0    male  \n",
       "4       3800.0    male  "
      ],
      "text/html": [
       "<div>\n",
       "<style scoped>\n",
       "    .dataframe tbody tr th:only-of-type {\n",
       "        vertical-align: middle;\n",
       "    }\n",
       "\n",
       "    .dataframe tbody tr th {\n",
       "        vertical-align: top;\n",
       "    }\n",
       "\n",
       "    .dataframe thead th {\n",
       "        text-align: right;\n",
       "    }\n",
       "</style>\n",
       "<table border=\"1\" class=\"dataframe\">\n",
       "  <thead>\n",
       "    <tr style=\"text-align: right;\">\n",
       "      <th></th>\n",
       "      <th>species</th>\n",
       "      <th>island</th>\n",
       "      <th>bill_length_mm</th>\n",
       "      <th>bill_depth_mm</th>\n",
       "      <th>flipper_length_mm</th>\n",
       "      <th>body_mass_g</th>\n",
       "      <th>sex</th>\n",
       "    </tr>\n",
       "  </thead>\n",
       "  <tbody>\n",
       "    <tr>\n",
       "      <th>0</th>\n",
       "      <td>Adelie</td>\n",
       "      <td>Biscoe</td>\n",
       "      <td>37.8</td>\n",
       "      <td>18.3</td>\n",
       "      <td>174.0</td>\n",
       "      <td>3400.0</td>\n",
       "      <td>female</td>\n",
       "    </tr>\n",
       "    <tr>\n",
       "      <th>1</th>\n",
       "      <td>Adelie</td>\n",
       "      <td>Biscoe</td>\n",
       "      <td>37.7</td>\n",
       "      <td>18.7</td>\n",
       "      <td>180.0</td>\n",
       "      <td>3600.0</td>\n",
       "      <td>male</td>\n",
       "    </tr>\n",
       "    <tr>\n",
       "      <th>2</th>\n",
       "      <td>Adelie</td>\n",
       "      <td>Biscoe</td>\n",
       "      <td>35.9</td>\n",
       "      <td>19.2</td>\n",
       "      <td>189.0</td>\n",
       "      <td>3800.0</td>\n",
       "      <td>female</td>\n",
       "    </tr>\n",
       "    <tr>\n",
       "      <th>3</th>\n",
       "      <td>Adelie</td>\n",
       "      <td>Biscoe</td>\n",
       "      <td>38.2</td>\n",
       "      <td>18.1</td>\n",
       "      <td>185.0</td>\n",
       "      <td>3950.0</td>\n",
       "      <td>male</td>\n",
       "    </tr>\n",
       "    <tr>\n",
       "      <th>4</th>\n",
       "      <td>Adelie</td>\n",
       "      <td>Biscoe</td>\n",
       "      <td>38.8</td>\n",
       "      <td>17.2</td>\n",
       "      <td>180.0</td>\n",
       "      <td>3800.0</td>\n",
       "      <td>male</td>\n",
       "    </tr>\n",
       "  </tbody>\n",
       "</table>\n",
       "</div>"
      ]
     },
     "execution_count": 2,
     "metadata": {},
     "output_type": "execute_result"
    }
   ],
   "execution_count": 2
  },
  {
   "cell_type": "markdown",
   "source": [
    "### Data Distribution\n",
    "The data distribution is important to determine patterns that may show up in the dataset. For example, it can also tell you how often a value may occur, the shape of the data, variability of a value, etc. \n",
    "\n",
    "py50 includes two tests that can help analyze the dataset. \n",
    "- Normality. This will test if the dataset follows normal distribution - i.e. a bell-shape curve.\n",
    "- Homoscedasticity. This will test for the \"spread\" or consistency of the dataset along a regression model. "
   ],
   "metadata": {
    "collapsed": false
   },
   "id": "6a54ab3a4a9ff776"
  },
  {
   "cell_type": "code",
   "source": [
    "# Test for normality\n",
    "stats.get_normality(value_col='body_mass_g', group_col='species').round(3)"
   ],
   "metadata": {
    "collapsed": false,
    "ExecuteTime": {
     "end_time": "2024-04-29T03:12:18.542960Z",
     "start_time": "2024-04-29T03:12:18.534856Z"
    }
   },
   "id": "45cf4ebadee59202",
   "outputs": [
    {
     "data": {
      "text/plain": [
       "               W   pval  normal\n",
       "species                        \n",
       "Adelie     0.981  0.032   False\n",
       "Chinstrap  0.984  0.561    True\n",
       "Gentoo     0.986  0.234    True"
      ],
      "text/html": [
       "<div>\n",
       "<style scoped>\n",
       "    .dataframe tbody tr th:only-of-type {\n",
       "        vertical-align: middle;\n",
       "    }\n",
       "\n",
       "    .dataframe tbody tr th {\n",
       "        vertical-align: top;\n",
       "    }\n",
       "\n",
       "    .dataframe thead th {\n",
       "        text-align: right;\n",
       "    }\n",
       "</style>\n",
       "<table border=\"1\" class=\"dataframe\">\n",
       "  <thead>\n",
       "    <tr style=\"text-align: right;\">\n",
       "      <th></th>\n",
       "      <th>W</th>\n",
       "      <th>pval</th>\n",
       "      <th>normal</th>\n",
       "    </tr>\n",
       "    <tr>\n",
       "      <th>species</th>\n",
       "      <th></th>\n",
       "      <th></th>\n",
       "      <th></th>\n",
       "    </tr>\n",
       "  </thead>\n",
       "  <tbody>\n",
       "    <tr>\n",
       "      <th>Adelie</th>\n",
       "      <td>0.981</td>\n",
       "      <td>0.032</td>\n",
       "      <td>False</td>\n",
       "    </tr>\n",
       "    <tr>\n",
       "      <th>Chinstrap</th>\n",
       "      <td>0.984</td>\n",
       "      <td>0.561</td>\n",
       "      <td>True</td>\n",
       "    </tr>\n",
       "    <tr>\n",
       "      <th>Gentoo</th>\n",
       "      <td>0.986</td>\n",
       "      <td>0.234</td>\n",
       "      <td>True</td>\n",
       "    </tr>\n",
       "  </tbody>\n",
       "</table>\n",
       "</div>"
      ]
     },
     "execution_count": 3,
     "metadata": {},
     "output_type": "execute_result"
    }
   ],
   "execution_count": 3
  },
  {
   "cell_type": "code",
   "source": "stats.get_homoscedasticity(value_col='body_mass_g', group_col='species').round(3)",
   "metadata": {
    "collapsed": false,
    "ExecuteTime": {
     "end_time": "2024-04-29T03:12:18.551266Z",
     "start_time": "2024-04-29T03:12:18.545207Z"
    }
   },
   "id": "85a60a893916413e",
   "outputs": [
    {
     "data": {
      "text/plain": [
       "         W  pval  equal_var\n",
       "levene NaN   NaN      False"
      ],
      "text/html": [
       "<div>\n",
       "<style scoped>\n",
       "    .dataframe tbody tr th:only-of-type {\n",
       "        vertical-align: middle;\n",
       "    }\n",
       "\n",
       "    .dataframe tbody tr th {\n",
       "        vertical-align: top;\n",
       "    }\n",
       "\n",
       "    .dataframe thead th {\n",
       "        text-align: right;\n",
       "    }\n",
       "</style>\n",
       "<table border=\"1\" class=\"dataframe\">\n",
       "  <thead>\n",
       "    <tr style=\"text-align: right;\">\n",
       "      <th></th>\n",
       "      <th>W</th>\n",
       "      <th>pval</th>\n",
       "      <th>equal_var</th>\n",
       "    </tr>\n",
       "  </thead>\n",
       "  <tbody>\n",
       "    <tr>\n",
       "      <th>levene</th>\n",
       "      <td>NaN</td>\n",
       "      <td>NaN</td>\n",
       "      <td>False</td>\n",
       "    </tr>\n",
       "  </tbody>\n",
       "</table>\n",
       "</div>"
      ]
     },
     "execution_count": 4,
     "metadata": {},
     "output_type": "execute_result"
    }
   ],
   "execution_count": 4
  },
  {
   "cell_type": "markdown",
   "source": [
    "### Perform ANOVA\n",
    "Several tests, parametric and non-parametric, are available in py50. The functions use the \"get_x\" format, where x is the name of said test. Here, the One-Way ANOVA script will be demoed. The final table will be a Pandas.DataFrame object. "
   ],
   "metadata": {
    "collapsed": false
   },
   "id": "1225371f424832b6"
  },
  {
   "cell_type": "code",
   "source": [
    "anova = stats.get_anova(value_col='body_mass_g', group_col='species')\n",
    "anova"
   ],
   "metadata": {
    "collapsed": false,
    "ExecuteTime": {
     "end_time": "2024-04-29T03:12:18.560820Z",
     "start_time": "2024-04-29T03:12:18.552214Z"
    }
   },
   "id": "42b90441e1a9435c",
   "outputs": [
    {
     "data": {
      "text/plain": [
       "    Source  ddof1  ddof2           F         p-unc       np2 significance\n",
       "0  species      2    339  343.626275  2.892368e-82  0.669672         ****"
      ],
      "text/html": [
       "<div>\n",
       "<style scoped>\n",
       "    .dataframe tbody tr th:only-of-type {\n",
       "        vertical-align: middle;\n",
       "    }\n",
       "\n",
       "    .dataframe tbody tr th {\n",
       "        vertical-align: top;\n",
       "    }\n",
       "\n",
       "    .dataframe thead th {\n",
       "        text-align: right;\n",
       "    }\n",
       "</style>\n",
       "<table border=\"1\" class=\"dataframe\">\n",
       "  <thead>\n",
       "    <tr style=\"text-align: right;\">\n",
       "      <th></th>\n",
       "      <th>Source</th>\n",
       "      <th>ddof1</th>\n",
       "      <th>ddof2</th>\n",
       "      <th>F</th>\n",
       "      <th>p-unc</th>\n",
       "      <th>np2</th>\n",
       "      <th>significance</th>\n",
       "    </tr>\n",
       "  </thead>\n",
       "  <tbody>\n",
       "    <tr>\n",
       "      <th>0</th>\n",
       "      <td>species</td>\n",
       "      <td>2</td>\n",
       "      <td>339</td>\n",
       "      <td>343.626275</td>\n",
       "      <td>2.892368e-82</td>\n",
       "      <td>0.669672</td>\n",
       "      <td>****</td>\n",
       "    </tr>\n",
       "  </tbody>\n",
       "</table>\n",
       "</div>"
      ]
     },
     "execution_count": 5,
     "metadata": {},
     "output_type": "execute_result"
    }
   ],
   "execution_count": 5
  },
  {
   "cell_type": "markdown",
   "source": [
    "### Tukey\n",
    "\n",
    "py50 comes with several post-hoc tests. Again, this can be called using the same 'get_x' phrase. As the above ANOVA test show significance between the Hair color group, a Tukey test will be performed. "
   ],
   "metadata": {
    "collapsed": false
   },
   "id": "44b16c88076ddad3"
  },
  {
   "cell_type": "code",
   "source": [
    "tukey = stats.get_tukey(value_col='body_mass_g', group_col='species').round(4)\n",
    "tukey"
   ],
   "metadata": {
    "collapsed": false,
    "ExecuteTime": {
     "end_time": "2024-04-29T03:12:18.619807Z",
     "start_time": "2024-04-29T03:12:18.561782Z"
    }
   },
   "id": "b7276b2e7a036ab7",
   "outputs": [
    {
     "data": {
      "text/plain": [
       "           A          B    mean(A)    mean(B)      diff       se        T  \\\n",
       "0     Adelie  Chinstrap  3700.6623  3733.0882   -32.426  67.5117  -0.4803   \n",
       "1     Adelie     Gentoo  3700.6623  5076.0163 -1375.354  56.1480 -24.4952   \n",
       "2  Chinstrap     Gentoo  3733.0882  5076.0163 -1342.928  69.8569 -19.2240   \n",
       "\n",
       "   p-tukey  hedges significance  \n",
       "0   0.8807 -0.0739         n.s.  \n",
       "1   0.0000 -2.8602         ****  \n",
       "2   0.0000 -2.8753         ****  "
      ],
      "text/html": [
       "<div>\n",
       "<style scoped>\n",
       "    .dataframe tbody tr th:only-of-type {\n",
       "        vertical-align: middle;\n",
       "    }\n",
       "\n",
       "    .dataframe tbody tr th {\n",
       "        vertical-align: top;\n",
       "    }\n",
       "\n",
       "    .dataframe thead th {\n",
       "        text-align: right;\n",
       "    }\n",
       "</style>\n",
       "<table border=\"1\" class=\"dataframe\">\n",
       "  <thead>\n",
       "    <tr style=\"text-align: right;\">\n",
       "      <th></th>\n",
       "      <th>A</th>\n",
       "      <th>B</th>\n",
       "      <th>mean(A)</th>\n",
       "      <th>mean(B)</th>\n",
       "      <th>diff</th>\n",
       "      <th>se</th>\n",
       "      <th>T</th>\n",
       "      <th>p-tukey</th>\n",
       "      <th>hedges</th>\n",
       "      <th>significance</th>\n",
       "    </tr>\n",
       "  </thead>\n",
       "  <tbody>\n",
       "    <tr>\n",
       "      <th>0</th>\n",
       "      <td>Adelie</td>\n",
       "      <td>Chinstrap</td>\n",
       "      <td>3700.6623</td>\n",
       "      <td>3733.0882</td>\n",
       "      <td>-32.426</td>\n",
       "      <td>67.5117</td>\n",
       "      <td>-0.4803</td>\n",
       "      <td>0.8807</td>\n",
       "      <td>-0.0739</td>\n",
       "      <td>n.s.</td>\n",
       "    </tr>\n",
       "    <tr>\n",
       "      <th>1</th>\n",
       "      <td>Adelie</td>\n",
       "      <td>Gentoo</td>\n",
       "      <td>3700.6623</td>\n",
       "      <td>5076.0163</td>\n",
       "      <td>-1375.354</td>\n",
       "      <td>56.1480</td>\n",
       "      <td>-24.4952</td>\n",
       "      <td>0.0000</td>\n",
       "      <td>-2.8602</td>\n",
       "      <td>****</td>\n",
       "    </tr>\n",
       "    <tr>\n",
       "      <th>2</th>\n",
       "      <td>Chinstrap</td>\n",
       "      <td>Gentoo</td>\n",
       "      <td>3733.0882</td>\n",
       "      <td>5076.0163</td>\n",
       "      <td>-1342.928</td>\n",
       "      <td>69.8569</td>\n",
       "      <td>-19.2240</td>\n",
       "      <td>0.0000</td>\n",
       "      <td>-2.8753</td>\n",
       "      <td>****</td>\n",
       "    </tr>\n",
       "  </tbody>\n",
       "</table>\n",
       "</div>"
      ]
     },
     "execution_count": 6,
     "metadata": {},
     "output_type": "execute_result"
    }
   ],
   "execution_count": 6
  },
  {
   "cell_type": "markdown",
   "source": [
    "The tukey results can be plotted as follows:\n",
    "\n",
    "The parameters for all plots in py50 are created to be as similar as possible. For each plot, there is also an option to \"return_df\". This parameter will output the calculated dataframe that was used to create the plot. Users can use this to compare to the plot generated using the Stats() module to check for any inconsistencies. "
   ],
   "metadata": {
    "collapsed": false
   },
   "id": "4b376c1151dd92d"
  },
  {
   "cell_type": "code",
   "source": [
    "title = 'Tukey Results Bar Plot'\n",
    "\n",
    "plot.barplot(test='tukey', value_col='body_mass_g', group_col='species', palette='RdYlGn', title=title, fontsize=30,\n",
    "             return_df=True)"
   ],
   "metadata": {
    "collapsed": false,
    "ExecuteTime": {
     "end_time": "2024-04-29T03:12:18.878717Z",
     "start_time": "2024-04-29T03:12:18.620561Z"
    }
   },
   "id": "3d3385061a012bae",
   "outputs": [
    {
     "data": {
      "text/plain": [
       "(           A          B      mean(A)      mean(B)         diff         se  \\\n",
       " 0     Adelie  Chinstrap  3700.662252  3733.088235   -32.425984  67.511684   \n",
       " 1     Adelie     Gentoo  3700.662252  5076.016260 -1375.354009  56.147971   \n",
       " 2  Chinstrap     Gentoo  3733.088235  5076.016260 -1342.928025  69.856928   \n",
       " \n",
       "            T   p-tukey    hedges significance  \n",
       " 0  -0.480302  0.880667 -0.073946         n.s.  \n",
       " 1 -24.495169  0.000000 -2.860201         ****  \n",
       " 2 -19.223978  0.000000 -2.875327         ****  ,\n",
       " <statannotations.Annotator.Annotator at 0x15796a5b0>)"
      ]
     },
     "execution_count": 7,
     "metadata": {},
     "output_type": "execute_result"
    },
    {
     "data": {
      "text/plain": [
       "<Figure size 640x480 with 1 Axes>"
      ],
      "image/png": "[encoded data removed]"
     },
     "metadata": {},
     "output_type": "display_data"
    }
   ],
   "execution_count": 7
  },
  {
   "cell_type": "markdown",
   "source": [
    "# Welch ANOVA\n",
    "\n",
    "Welch ANOVA is used for when the Homoscedasticity is false. In other words, if the datasets does not look consistent. The get_welch_anova() function can be tested usign the same Penguin dataset used above. "
   ],
   "metadata": {
    "collapsed": false
   },
   "id": "c142ea06967aee30"
  },
  {
   "cell_type": "code",
   "source": [
    "# welch = stats.get_welch_anova(data, value_col='body_mass_g', group_col='species').round(4)\n",
    "welch = stats.get_welch_anova(value_col='body_mass_g', group_col='species')\n",
    "welch"
   ],
   "metadata": {
    "collapsed": false,
    "ExecuteTime": {
     "end_time": "2024-04-29T03:12:18.892415Z",
     "start_time": "2024-04-29T03:12:18.880928Z"
    }
   },
   "id": "5f36e4912b094887",
   "outputs": [
    {
     "data": {
      "text/plain": [
       "    Source  ddof1       ddof2           F         p-unc       np2 significance\n",
       "0  species      2  189.478413  317.572267  3.093701e-61  0.669672         ****"
      ],
      "text/html": [
       "<div>\n",
       "<style scoped>\n",
       "    .dataframe tbody tr th:only-of-type {\n",
       "        vertical-align: middle;\n",
       "    }\n",
       "\n",
       "    .dataframe tbody tr th {\n",
       "        vertical-align: top;\n",
       "    }\n",
       "\n",
       "    .dataframe thead th {\n",
       "        text-align: right;\n",
       "    }\n",
       "</style>\n",
       "<table border=\"1\" class=\"dataframe\">\n",
       "  <thead>\n",
       "    <tr style=\"text-align: right;\">\n",
       "      <th></th>\n",
       "      <th>Source</th>\n",
       "      <th>ddof1</th>\n",
       "      <th>ddof2</th>\n",
       "      <th>F</th>\n",
       "      <th>p-unc</th>\n",
       "      <th>np2</th>\n",
       "      <th>significance</th>\n",
       "    </tr>\n",
       "  </thead>\n",
       "  <tbody>\n",
       "    <tr>\n",
       "      <th>0</th>\n",
       "      <td>species</td>\n",
       "      <td>2</td>\n",
       "      <td>189.478413</td>\n",
       "      <td>317.572267</td>\n",
       "      <td>3.093701e-61</td>\n",
       "      <td>0.669672</td>\n",
       "      <td>****</td>\n",
       "    </tr>\n",
       "  </tbody>\n",
       "</table>\n",
       "</div>"
      ]
     },
     "execution_count": 8,
     "metadata": {},
     "output_type": "execute_result"
    }
   ],
   "execution_count": 8
  },
  {
   "cell_type": "markdown",
   "source": [
    "### Games-Howell Post-Hoc Test\n",
    "\n",
    "Again, after the ANOVA test, a post-hoc test should be used to tell significance between groups. Games-Howell can be used to handle situations with inconsistent datasets - i.e. Homoscedasticity is false."
   ],
   "metadata": {
    "collapsed": false
   },
   "id": "24db12cd624cade0"
  },
  {
   "cell_type": "code",
   "source": [
    "gameshowell = stats.get_gameshowell(value_col='body_mass_g', group_col='species')\n",
    "gameshowell"
   ],
   "metadata": {
    "collapsed": false,
    "ExecuteTime": {
     "end_time": "2024-04-29T03:12:18.957213Z",
     "start_time": "2024-04-29T03:12:18.893974Z"
    }
   },
   "id": "d72ecb30c0fd24f4",
   "outputs": [
    {
     "data": {
      "text/plain": [
       "           A          B      mean(A)      mean(B)         diff         se  \\\n",
       "0     Adelie  Chinstrap  3700.662252  3733.088235   -32.425984  59.706437   \n",
       "1     Adelie     Gentoo  3700.662252  5076.016260 -1375.354009  58.810929   \n",
       "2  Chinstrap     Gentoo  3733.088235  5076.016260 -1342.928025  65.102843   \n",
       "\n",
       "           T          df      pval    hedges significance  \n",
       "0  -0.543090  152.454796  0.850154 -0.073946         n.s.  \n",
       "1 -23.386028  249.642554  0.000000 -2.860201         ****  \n",
       "2 -20.627794  170.404362  0.000000 -2.875327         ****  "
      ],
      "text/html": [
       "<div>\n",
       "<style scoped>\n",
       "    .dataframe tbody tr th:only-of-type {\n",
       "        vertical-align: middle;\n",
       "    }\n",
       "\n",
       "    .dataframe tbody tr th {\n",
       "        vertical-align: top;\n",
       "    }\n",
       "\n",
       "    .dataframe thead th {\n",
       "        text-align: right;\n",
       "    }\n",
       "</style>\n",
       "<table border=\"1\" class=\"dataframe\">\n",
       "  <thead>\n",
       "    <tr style=\"text-align: right;\">\n",
       "      <th></th>\n",
       "      <th>A</th>\n",
       "      <th>B</th>\n",
       "      <th>mean(A)</th>\n",
       "      <th>mean(B)</th>\n",
       "      <th>diff</th>\n",
       "      <th>se</th>\n",
       "      <th>T</th>\n",
       "      <th>df</th>\n",
       "      <th>pval</th>\n",
       "      <th>hedges</th>\n",
       "      <th>significance</th>\n",
       "    </tr>\n",
       "  </thead>\n",
       "  <tbody>\n",
       "    <tr>\n",
       "      <th>0</th>\n",
       "      <td>Adelie</td>\n",
       "      <td>Chinstrap</td>\n",
       "      <td>3700.662252</td>\n",
       "      <td>3733.088235</td>\n",
       "      <td>-32.425984</td>\n",
       "      <td>59.706437</td>\n",
       "      <td>-0.543090</td>\n",
       "      <td>152.454796</td>\n",
       "      <td>0.850154</td>\n",
       "      <td>-0.073946</td>\n",
       "      <td>n.s.</td>\n",
       "    </tr>\n",
       "    <tr>\n",
       "      <th>1</th>\n",
       "      <td>Adelie</td>\n",
       "      <td>Gentoo</td>\n",
       "      <td>3700.662252</td>\n",
       "      <td>5076.016260</td>\n",
       "      <td>-1375.354009</td>\n",
       "      <td>58.810929</td>\n",
       "      <td>-23.386028</td>\n",
       "      <td>249.642554</td>\n",
       "      <td>0.000000</td>\n",
       "      <td>-2.860201</td>\n",
       "      <td>****</td>\n",
       "    </tr>\n",
       "    <tr>\n",
       "      <th>2</th>\n",
       "      <td>Chinstrap</td>\n",
       "      <td>Gentoo</td>\n",
       "      <td>3733.088235</td>\n",
       "      <td>5076.016260</td>\n",
       "      <td>-1342.928025</td>\n",
       "      <td>65.102843</td>\n",
       "      <td>-20.627794</td>\n",
       "      <td>170.404362</td>\n",
       "      <td>0.000000</td>\n",
       "      <td>-2.875327</td>\n",
       "      <td>****</td>\n",
       "    </tr>\n",
       "  </tbody>\n",
       "</table>\n",
       "</div>"
      ]
     },
     "execution_count": 9,
     "metadata": {},
     "output_type": "execute_result"
    }
   ],
   "execution_count": 9
  },
  {
   "cell_type": "markdown",
   "source": "The post-hoc results can be plotted using py50. Her there are specific pairs denoted for plotting. This would remove the pairs that have no significance (n.s.). If the return_df=True, then the returned table will only contain the pairs annotated on the plot. ",
   "metadata": {
    "collapsed": false
   },
   "id": "3e75861c6b7dc5cb"
  },
  {
   "cell_type": "code",
   "source": [
    "title = 'Games-Howell Results Bar Plot'\n",
    "pairs = [('Gentoo', 'Chinstrap'), ('Adelie', 'Gentoo')]\n",
    "\n",
    "plot.barplot(test='gameshowell', value_col='body_mass_g', group_col='species', palette='RdYlGn', title=title,\n",
    "             fontsize=30, return_df=True, pairs=pairs)"
   ],
   "metadata": {
    "collapsed": false,
    "ExecuteTime": {
     "end_time": "2024-04-29T03:12:19.093452Z",
     "start_time": "2024-04-29T03:12:18.959541Z"
    }
   },
   "id": "213702e86ffbb96f",
   "outputs": [
    {
     "data": {
      "text/plain": [
       "(           A       B      mean(A)     mean(B)         diff         se  \\\n",
       " 1  Chinstrap  Gentoo  3733.088235  5076.01626 -1342.928025  65.102843   \n",
       " 0     Adelie  Gentoo  3700.662252  5076.01626 -1375.354009  58.810929   \n",
       " \n",
       "            T          df  pval    hedges significance  \n",
       " 1 -20.627794  170.404362   0.0 -2.875327         ****  \n",
       " 0 -23.386028  249.642554   0.0 -2.860201         ****  ,\n",
       " <statannotations.Annotator.Annotator at 0x157abd640>)"
      ]
     },
     "execution_count": 10,
     "metadata": {},
     "output_type": "execute_result"
    },
    {
     "data": {
      "text/plain": [
       "<Figure size 640x480 with 1 Axes>"
      ],
      "image/png": "[encoded data removed]"
     },
     "metadata": {},
     "output_type": "display_data"
    }
   ],
   "execution_count": 10
  },
  {
   "cell_type": "markdown",
   "source": [
    "# Repeated Measures\n",
    "\n",
    "Repeated measures is used to analyze within-subjects or within-groups factors. Can be used when the subjects are measured under different conditions or time points. Examples for the get_rm_anova() function uses the 'rm_anova' dataset from pingouin as follows:"
   ],
   "metadata": {
    "collapsed": false
   },
   "id": "1efb20e99c35d2a6"
  },
  {
   "cell_type": "code",
   "source": [
    "repeated_m = pg.read_dataset('rm_anova')\n",
    "repeated_m.dropna(subset=['Gender'], inplace=True)\n",
    "\n",
    "rm_stats = Stats(repeated_m)\n",
    "rm_plots = Plots(repeated_m)\n",
    "rm_stats.show()"
   ],
   "metadata": {
    "collapsed": false,
    "ExecuteTime": {
     "end_time": "2024-04-29T03:12:19.101803Z",
     "start_time": "2024-04-29T03:12:19.094432Z"
    }
   },
   "id": "1e041f456070b179",
   "outputs": [
    {
     "data": {
      "text/plain": [
       "   Subject  Gender Region Education  DesireToKill Disgustingness  \\\n",
       "0        1  Female  North      some          10.0           High   \n",
       "1        1  Female  North      some           9.0           High   \n",
       "2        1  Female  North      some           6.0            Low   \n",
       "3        1  Female  North      some           6.0            Low   \n",
       "4        2  Female  North   advance          10.0           High   \n",
       "\n",
       "  Frighteningness  \n",
       "0            High  \n",
       "1             Low  \n",
       "2            High  \n",
       "3             Low  \n",
       "4            High  "
      ],
      "text/html": [
       "<div>\n",
       "<style scoped>\n",
       "    .dataframe tbody tr th:only-of-type {\n",
       "        vertical-align: middle;\n",
       "    }\n",
       "\n",
       "    .dataframe tbody tr th {\n",
       "        vertical-align: top;\n",
       "    }\n",
       "\n",
       "    .dataframe thead th {\n",
       "        text-align: right;\n",
       "    }\n",
       "</style>\n",
       "<table border=\"1\" class=\"dataframe\">\n",
       "  <thead>\n",
       "    <tr style=\"text-align: right;\">\n",
       "      <th></th>\n",
       "      <th>Subject</th>\n",
       "      <th>Gender</th>\n",
       "      <th>Region</th>\n",
       "      <th>Education</th>\n",
       "      <th>DesireToKill</th>\n",
       "      <th>Disgustingness</th>\n",
       "      <th>Frighteningness</th>\n",
       "    </tr>\n",
       "  </thead>\n",
       "  <tbody>\n",
       "    <tr>\n",
       "      <th>0</th>\n",
       "      <td>1</td>\n",
       "      <td>Female</td>\n",
       "      <td>North</td>\n",
       "      <td>some</td>\n",
       "      <td>10.0</td>\n",
       "      <td>High</td>\n",
       "      <td>High</td>\n",
       "    </tr>\n",
       "    <tr>\n",
       "      <th>1</th>\n",
       "      <td>1</td>\n",
       "      <td>Female</td>\n",
       "      <td>North</td>\n",
       "      <td>some</td>\n",
       "      <td>9.0</td>\n",
       "      <td>High</td>\n",
       "      <td>Low</td>\n",
       "    </tr>\n",
       "    <tr>\n",
       "      <th>2</th>\n",
       "      <td>1</td>\n",
       "      <td>Female</td>\n",
       "      <td>North</td>\n",
       "      <td>some</td>\n",
       "      <td>6.0</td>\n",
       "      <td>Low</td>\n",
       "      <td>High</td>\n",
       "    </tr>\n",
       "    <tr>\n",
       "      <th>3</th>\n",
       "      <td>1</td>\n",
       "      <td>Female</td>\n",
       "      <td>North</td>\n",
       "      <td>some</td>\n",
       "      <td>6.0</td>\n",
       "      <td>Low</td>\n",
       "      <td>Low</td>\n",
       "    </tr>\n",
       "    <tr>\n",
       "      <th>4</th>\n",
       "      <td>2</td>\n",
       "      <td>Female</td>\n",
       "      <td>North</td>\n",
       "      <td>advance</td>\n",
       "      <td>10.0</td>\n",
       "      <td>High</td>\n",
       "      <td>High</td>\n",
       "    </tr>\n",
       "  </tbody>\n",
       "</table>\n",
       "</div>"
      ]
     },
     "execution_count": 11,
     "metadata": {},
     "output_type": "execute_result"
    }
   ],
   "execution_count": 11
  },
  {
   "cell_type": "code",
   "source": [
    "repeated_measures = rm_stats.get_rm_anova(value_col='DesireToKill', within_subject_col='Disgustingness',\n",
    "                                          subject_col='Subject')\n",
    "repeated_measures"
   ],
   "metadata": {
    "collapsed": false,
    "ExecuteTime": {
     "end_time": "2024-04-29T03:12:19.116486Z",
     "start_time": "2024-04-29T03:12:19.102600Z"
    }
   },
   "id": "7233aba8e341327f",
   "outputs": [
    {
     "data": {
      "text/plain": [
       "           Source  ddof1  ddof2          F     p-unc       ng2  eps  \\\n",
       "0  Disgustingness      1     91  11.876684  0.000862  0.025827  1.0   \n",
       "\n",
       "  significance  \n",
       "0          ***  "
      ],
      "text/html": [
       "<div>\n",
       "<style scoped>\n",
       "    .dataframe tbody tr th:only-of-type {\n",
       "        vertical-align: middle;\n",
       "    }\n",
       "\n",
       "    .dataframe tbody tr th {\n",
       "        vertical-align: top;\n",
       "    }\n",
       "\n",
       "    .dataframe thead th {\n",
       "        text-align: right;\n",
       "    }\n",
       "</style>\n",
       "<table border=\"1\" class=\"dataframe\">\n",
       "  <thead>\n",
       "    <tr style=\"text-align: right;\">\n",
       "      <th></th>\n",
       "      <th>Source</th>\n",
       "      <th>ddof1</th>\n",
       "      <th>ddof2</th>\n",
       "      <th>F</th>\n",
       "      <th>p-unc</th>\n",
       "      <th>ng2</th>\n",
       "      <th>eps</th>\n",
       "      <th>significance</th>\n",
       "    </tr>\n",
       "  </thead>\n",
       "  <tbody>\n",
       "    <tr>\n",
       "      <th>0</th>\n",
       "      <td>Disgustingness</td>\n",
       "      <td>1</td>\n",
       "      <td>91</td>\n",
       "      <td>11.876684</td>\n",
       "      <td>0.000862</td>\n",
       "      <td>0.025827</td>\n",
       "      <td>1.0</td>\n",
       "      <td>***</td>\n",
       "    </tr>\n",
       "  </tbody>\n",
       "</table>\n",
       "</div>"
      ]
     },
     "execution_count": 12,
     "metadata": {},
     "output_type": "execute_result"
    }
   ],
   "execution_count": 12
  },
  {
   "cell_type": "markdown",
   "source": [
    "# Pairwise tests for repeated measures\n",
    "\n",
    "The guidelines found on [Pingouin](https://pingouin-stats.org/build/html/guidelines.html#id5) suggest pairwise_tests(). py50 warps this function in the get_pairwise_rm() function. The results can also be used to plot hte results. \n",
    "\n",
    "**NOTE:** Depending on the data, it may also be feasible to use the Tukey test. "
   ],
   "metadata": {
    "collapsed": false
   },
   "id": "e8448ead0e99305a"
  },
  {
   "cell_type": "code",
   "source": [
    "pairwise_test = rm_stats.get_pairwise_rm(value_col='DesireToKill', within_subject_col='Disgustingness',\n",
    "                                         subject_col='Subject')\n",
    "pairwise_test"
   ],
   "metadata": {
    "collapsed": false,
    "ExecuteTime": {
     "end_time": "2024-04-29T03:12:19.136749Z",
     "start_time": "2024-04-29T03:12:19.117237Z"
    }
   },
   "id": "513cc3a8bc7c1a02",
   "outputs": [
    {
     "data": {
      "text/plain": [
       "         Contrast     A    B  Paired  Parametric         T   dof alternative  \\\n",
       "0  Disgustingness  High  Low    True        True  3.446257  91.0   two-sided   \n",
       "\n",
       "      p-unc    BF10    hedges significance  \n",
       "0  0.000862  26.262  0.322536          ***  "
      ],
      "text/html": [
       "<div>\n",
       "<style scoped>\n",
       "    .dataframe tbody tr th:only-of-type {\n",
       "        vertical-align: middle;\n",
       "    }\n",
       "\n",
       "    .dataframe tbody tr th {\n",
       "        vertical-align: top;\n",
       "    }\n",
       "\n",
       "    .dataframe thead th {\n",
       "        text-align: right;\n",
       "    }\n",
       "</style>\n",
       "<table border=\"1\" class=\"dataframe\">\n",
       "  <thead>\n",
       "    <tr style=\"text-align: right;\">\n",
       "      <th></th>\n",
       "      <th>Contrast</th>\n",
       "      <th>A</th>\n",
       "      <th>B</th>\n",
       "      <th>Paired</th>\n",
       "      <th>Parametric</th>\n",
       "      <th>T</th>\n",
       "      <th>dof</th>\n",
       "      <th>alternative</th>\n",
       "      <th>p-unc</th>\n",
       "      <th>BF10</th>\n",
       "      <th>hedges</th>\n",
       "      <th>significance</th>\n",
       "    </tr>\n",
       "  </thead>\n",
       "  <tbody>\n",
       "    <tr>\n",
       "      <th>0</th>\n",
       "      <td>Disgustingness</td>\n",
       "      <td>High</td>\n",
       "      <td>Low</td>\n",
       "      <td>True</td>\n",
       "      <td>True</td>\n",
       "      <td>3.446257</td>\n",
       "      <td>91.0</td>\n",
       "      <td>two-sided</td>\n",
       "      <td>0.000862</td>\n",
       "      <td>26.262</td>\n",
       "      <td>0.322536</td>\n",
       "      <td>***</td>\n",
       "    </tr>\n",
       "  </tbody>\n",
       "</table>\n",
       "</div>"
      ]
     },
     "execution_count": 13,
     "metadata": {},
     "output_type": "execute_result"
    }
   ],
   "execution_count": 13
  },
  {
   "cell_type": "code",
   "source": [
    "title = 'Pairwise T-Test Results Bar Plot'\n",
    "\n",
    "rm_plots.boxplot(test='pairwise-rm', value_col='DesireToKill', group_col='Disgustingness', subject_col='Subject',\n",
    "                 palette='RdYlGn', title=title, fontsize=30, return_df=True)"
   ],
   "metadata": {
    "collapsed": false,
    "ExecuteTime": {
     "end_time": "2024-04-29T03:12:19.245815Z",
     "start_time": "2024-04-29T03:12:19.137397Z"
    }
   },
   "id": "ba15bf6cd980f049",
   "outputs": [
    {
     "data": {
      "text/plain": [
       "(         Contrast     A    B  Paired  Parametric         T        dof  \\\n",
       " 0  Disgustingness  High  Low   False        True  2.595165  360.18469   \n",
       " \n",
       "   alternative     p-unc   BF10    hedges significance  \n",
       " 0   two-sided  0.009841  2.899  0.271888           **  ,\n",
       " <statannotations.Annotator.Annotator at 0x157cc3f70>)"
      ]
     },
     "execution_count": 14,
     "metadata": {},
     "output_type": "execute_result"
    },
    {
     "data": {
      "text/plain": [
       "<Figure size 640x480 with 1 Axes>"
      ],
      "image/png": "[encoded data removed]"
     },
     "metadata": {},
     "output_type": "display_data"
    }
   ],
   "execution_count": 14
  },
  {
   "cell_type": "markdown",
   "source": [
    "# Mixed ANOVA\n",
    "Mixed ANOVA can be used to analyze data with mixed design - both within and between group factors. The function uses the py50 standard as seen in the above examples. The example here will use the 'mixed_anova' dataset from Pingouin.\n"
   ],
   "metadata": {
    "collapsed": false
   },
   "id": "4e28273ab914da32"
  },
  {
   "cell_type": "code",
   "source": [
    "data = pg.read_dataset('mixed_anova')\n",
    "mixed_stats = Stats(data)\n",
    "mixed_plot = Plots(data)\n",
    "\n",
    "mixed_stats.show()"
   ],
   "metadata": {
    "collapsed": false,
    "ExecuteTime": {
     "end_time": "2024-04-29T03:12:19.251264Z",
     "start_time": "2024-04-29T03:12:19.246513Z"
    }
   },
   "id": "8bf97ef742a1d944",
   "outputs": [
    {
     "data": {
      "text/plain": [
       "     Scores    Time    Group  Subject\n",
       "0  5.971435  August  Control        0\n",
       "1  4.309024  August  Control        1\n",
       "2  6.932707  August  Control        2\n",
       "3  5.187348  August  Control        3\n",
       "4  4.779411  August  Control        4"
      ],
      "text/html": [
       "<div>\n",
       "<style scoped>\n",
       "    .dataframe tbody tr th:only-of-type {\n",
       "        vertical-align: middle;\n",
       "    }\n",
       "\n",
       "    .dataframe tbody tr th {\n",
       "        vertical-align: top;\n",
       "    }\n",
       "\n",
       "    .dataframe thead th {\n",
       "        text-align: right;\n",
       "    }\n",
       "</style>\n",
       "<table border=\"1\" class=\"dataframe\">\n",
       "  <thead>\n",
       "    <tr style=\"text-align: right;\">\n",
       "      <th></th>\n",
       "      <th>Scores</th>\n",
       "      <th>Time</th>\n",
       "      <th>Group</th>\n",
       "      <th>Subject</th>\n",
       "    </tr>\n",
       "  </thead>\n",
       "  <tbody>\n",
       "    <tr>\n",
       "      <th>0</th>\n",
       "      <td>5.971435</td>\n",
       "      <td>August</td>\n",
       "      <td>Control</td>\n",
       "      <td>0</td>\n",
       "    </tr>\n",
       "    <tr>\n",
       "      <th>1</th>\n",
       "      <td>4.309024</td>\n",
       "      <td>August</td>\n",
       "      <td>Control</td>\n",
       "      <td>1</td>\n",
       "    </tr>\n",
       "    <tr>\n",
       "      <th>2</th>\n",
       "      <td>6.932707</td>\n",
       "      <td>August</td>\n",
       "      <td>Control</td>\n",
       "      <td>2</td>\n",
       "    </tr>\n",
       "    <tr>\n",
       "      <th>3</th>\n",
       "      <td>5.187348</td>\n",
       "      <td>August</td>\n",
       "      <td>Control</td>\n",
       "      <td>3</td>\n",
       "    </tr>\n",
       "    <tr>\n",
       "      <th>4</th>\n",
       "      <td>4.779411</td>\n",
       "      <td>August</td>\n",
       "      <td>Control</td>\n",
       "      <td>4</td>\n",
       "    </tr>\n",
       "  </tbody>\n",
       "</table>\n",
       "</div>"
      ]
     },
     "execution_count": 15,
     "metadata": {},
     "output_type": "execute_result"
    }
   ],
   "execution_count": 15
  },
  {
   "cell_type": "code",
   "source": [
    "mixed = mixed_stats.get_mixed_anova(value_col='Scores', group_col='Group', within_subject_col='Time',\n",
    "                                    subject_col='Subject')\n",
    "mixed"
   ],
   "metadata": {
    "collapsed": false,
    "ExecuteTime": {
     "end_time": "2024-04-29T03:12:19.274372Z",
     "start_time": "2024-04-29T03:12:19.252148Z"
    }
   },
   "id": "d7d72676d393d952",
   "outputs": [
    {
     "data": {
      "text/plain": [
       "        Source        SS  DF1  DF2        MS         F     p-unc       np2  \\\n",
       "0        Group  5.459963    1   58  5.459963  5.051709  0.028420  0.080120   \n",
       "1         Time  7.628428    2  116  3.814214  4.027394  0.020369  0.064929   \n",
       "2  Interaction  5.167192    2  116  2.583596  2.727996  0.069545  0.044922   \n",
       "\n",
       "        eps significance  \n",
       "0       NaN            *  \n",
       "1  0.998751            *  \n",
       "2       NaN         n.s.  "
      ],
      "text/html": [
       "<div>\n",
       "<style scoped>\n",
       "    .dataframe tbody tr th:only-of-type {\n",
       "        vertical-align: middle;\n",
       "    }\n",
       "\n",
       "    .dataframe tbody tr th {\n",
       "        vertical-align: top;\n",
       "    }\n",
       "\n",
       "    .dataframe thead th {\n",
       "        text-align: right;\n",
       "    }\n",
       "</style>\n",
       "<table border=\"1\" class=\"dataframe\">\n",
       "  <thead>\n",
       "    <tr style=\"text-align: right;\">\n",
       "      <th></th>\n",
       "      <th>Source</th>\n",
       "      <th>SS</th>\n",
       "      <th>DF1</th>\n",
       "      <th>DF2</th>\n",
       "      <th>MS</th>\n",
       "      <th>F</th>\n",
       "      <th>p-unc</th>\n",
       "      <th>np2</th>\n",
       "      <th>eps</th>\n",
       "      <th>significance</th>\n",
       "    </tr>\n",
       "  </thead>\n",
       "  <tbody>\n",
       "    <tr>\n",
       "      <th>0</th>\n",
       "      <td>Group</td>\n",
       "      <td>5.459963</td>\n",
       "      <td>1</td>\n",
       "      <td>58</td>\n",
       "      <td>5.459963</td>\n",
       "      <td>5.051709</td>\n",
       "      <td>0.028420</td>\n",
       "      <td>0.080120</td>\n",
       "      <td>NaN</td>\n",
       "      <td>*</td>\n",
       "    </tr>\n",
       "    <tr>\n",
       "      <th>1</th>\n",
       "      <td>Time</td>\n",
       "      <td>7.628428</td>\n",
       "      <td>2</td>\n",
       "      <td>116</td>\n",
       "      <td>3.814214</td>\n",
       "      <td>4.027394</td>\n",
       "      <td>0.020369</td>\n",
       "      <td>0.064929</td>\n",
       "      <td>0.998751</td>\n",
       "      <td>*</td>\n",
       "    </tr>\n",
       "    <tr>\n",
       "      <th>2</th>\n",
       "      <td>Interaction</td>\n",
       "      <td>5.167192</td>\n",
       "      <td>2</td>\n",
       "      <td>116</td>\n",
       "      <td>2.583596</td>\n",
       "      <td>2.727996</td>\n",
       "      <td>0.069545</td>\n",
       "      <td>0.044922</td>\n",
       "      <td>NaN</td>\n",
       "      <td>n.s.</td>\n",
       "    </tr>\n",
       "  </tbody>\n",
       "</table>\n",
       "</div>"
      ]
     },
     "execution_count": 16,
     "metadata": {},
     "output_type": "execute_result"
    }
   ],
   "execution_count": 16
  },
  {
   "cell_type": "markdown",
   "source": [
    "The guidelines found on [Pingouin](https://pingouin-stats.org/build/html/guidelines.html#id5) suggest pairwise_tests(). That can also be used. But depending on the dataset, it may be more prudent to use the tukey test. That is easy to use, as we have seen above. The Tukey test will be performed and the corresponding barplot() will be generated. "
   ],
   "metadata": {
    "collapsed": false
   },
   "id": "4252585cc643003a"
  },
  {
   "cell_type": "code",
   "source": [
    "pairwise_test = mixed_stats.get_tukey(value_col='Scores', group_col='Group')\n",
    "pairwise_test"
   ],
   "metadata": {
    "collapsed": false,
    "ExecuteTime": {
     "end_time": "2024-04-29T03:12:19.297106Z",
     "start_time": "2024-04-29T03:12:19.275130Z"
    }
   },
   "id": "c08a58df20977302",
   "outputs": [
    {
     "data": {
      "text/plain": [
       "         A           B   mean(A)  mean(B)      diff        se         T  \\\n",
       "0  Control  Meditation  5.567851  5.91618 -0.348328  0.152115 -2.289903   \n",
       "\n",
       "   p-tukey    hedges significance  \n",
       "0   0.0232 -0.339918            *  "
      ],
      "text/html": [
       "<div>\n",
       "<style scoped>\n",
       "    .dataframe tbody tr th:only-of-type {\n",
       "        vertical-align: middle;\n",
       "    }\n",
       "\n",
       "    .dataframe tbody tr th {\n",
       "        vertical-align: top;\n",
       "    }\n",
       "\n",
       "    .dataframe thead th {\n",
       "        text-align: right;\n",
       "    }\n",
       "</style>\n",
       "<table border=\"1\" class=\"dataframe\">\n",
       "  <thead>\n",
       "    <tr style=\"text-align: right;\">\n",
       "      <th></th>\n",
       "      <th>A</th>\n",
       "      <th>B</th>\n",
       "      <th>mean(A)</th>\n",
       "      <th>mean(B)</th>\n",
       "      <th>diff</th>\n",
       "      <th>se</th>\n",
       "      <th>T</th>\n",
       "      <th>p-tukey</th>\n",
       "      <th>hedges</th>\n",
       "      <th>significance</th>\n",
       "    </tr>\n",
       "  </thead>\n",
       "  <tbody>\n",
       "    <tr>\n",
       "      <th>0</th>\n",
       "      <td>Control</td>\n",
       "      <td>Meditation</td>\n",
       "      <td>5.567851</td>\n",
       "      <td>5.91618</td>\n",
       "      <td>-0.348328</td>\n",
       "      <td>0.152115</td>\n",
       "      <td>-2.289903</td>\n",
       "      <td>0.0232</td>\n",
       "      <td>-0.339918</td>\n",
       "      <td>*</td>\n",
       "    </tr>\n",
       "  </tbody>\n",
       "</table>\n",
       "</div>"
      ]
     },
     "execution_count": 17,
     "metadata": {},
     "output_type": "execute_result"
    }
   ],
   "execution_count": 17
  },
  {
   "cell_type": "code",
   "source": [
    "title = 'Tukey on Mixed ANOVA Results Bar Plot'\n",
    "\n",
    "mixed_plot.barplot(test='tukey', value_col='Scores', group_col='Group', palette='RdYlGn', title=title, fontsize=30,\n",
    "                   return_df=True)"
   ],
   "metadata": {
    "collapsed": false,
    "ExecuteTime": {
     "end_time": "2024-04-29T03:12:19.408165Z",
     "start_time": "2024-04-29T03:12:19.297957Z"
    }
   },
   "id": "49298054eb53bd95",
   "outputs": [
    {
     "data": {
      "text/plain": [
       "(         A           B   mean(A)  mean(B)      diff        se         T  \\\n",
       " 0  Control  Meditation  5.567851  5.91618 -0.348328  0.152115 -2.289903   \n",
       " \n",
       "    p-tukey    hedges significance  \n",
       " 0   0.0232 -0.339918            *  ,\n",
       " <statannotations.Annotator.Annotator at 0x157d7c880>)"
      ]
     },
     "execution_count": 18,
     "metadata": {},
     "output_type": "execute_result"
    },
    {
     "data": {
      "text/plain": [
       "<Figure size 640x480 with 1 Axes>"
      ],
      "image/png": "[encoded data removed]"
     },
     "metadata": {},
     "output_type": "display_data"
    }
   ],
   "execution_count": 18
  }
 ],
 "metadata": {
  "kernelspec": {
   "display_name": "Python 3",
   "language": "python",
   "name": "python3"
  },
  "language_info": {
   "codemirror_mode": {
    "name": "ipython",
    "version": 2
   },
   "file_extension": ".py",
   "mimetype": "text/x-python",
   "name": "python",
   "nbconvert_exporter": "python",
   "pygments_lexer": "ipython2",
   "version": "2.7.6"
  }
 },
 "nbformat": 4,
 "nbformat_minor": 5
}
