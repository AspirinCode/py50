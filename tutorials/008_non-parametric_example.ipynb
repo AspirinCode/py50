{
 "cells": [
  {
   "cell_type": "markdown",
   "source": [
    "# Non-Parametric Tutorial\n",
    "**NOTE** \n",
    "This notebook is not meant to teach statistics, but only demo how to run the py50 functions. There are plenty of resources available online. I particularly found introductory [tutorials by DATAtab](https://datatab.net/tutorial/get-started) helpful. \n",
    "\n",
    "The following page will show examples of non-parametric tests using the Stats() and Plots() modules of py50. There are many plot features available for py50, but they will not all be demoed here. Instead, to see all the plots available, take a look at the [006_statistics_quickstart tutorial](https://github.com/tlint101/py50/blob/main/tutorials/006_statistics_quickstart.ipynb).\n",
    "\n",
    "The tests here will follow a path similar to the [guidelines by Pingouin](https://pingouin-stats.org/build/html/guidelines.html). However, different post-hoc tests can be used based on the given dataset. Use your best judgement for the analysis. \n",
    "\n",
    "py50 has converted the tests for Wilcoxon and Mann-Whitney for pairwise analysis, which will be demoed below. "
   ],
   "metadata": {
    "collapsed": false
   },
   "id": "f1f36e5ded82a1b7"
  },
  {
   "cell_type": "code",
   "id": "initial_id",
   "metadata": {
    "collapsed": true,
    "ExecuteTime": {
     "end_time": "2024-04-09T09:09:50.035741Z",
     "start_time": "2024-04-09T09:09:49.978085Z"
    }
   },
   "source": [
    "from py50.stats import Stats, Plots\n",
    "import seaborn as sns\n",
    "from matplotlib import pyplot as plt\n",
    "\n",
    "# Initialize Class\n",
    "stats = Stats()\n",
    "plot = Plots()"
   ],
   "outputs": [],
   "execution_count": 1
  },
  {
   "cell_type": "markdown",
   "source": [
    "### Pairwise Wilcoxon\n",
    "\n",
    "The pariwise Wilcoxon test is a non-parametric test to determine statistically significant differences between paired samples. The test evaluates whether the median of the differences between paired observations is significantly different from zero.\n",
    "\n",
    "**Performing a pairwise Wilcoxon test requires the groups to be the same length**. This is because each group observation is paired with a corresponding observation in the other group. Thus, a one-to-one pairing will need to be established. \n",
    "\n",
    "For this example, the Wilcoxon test will be performed using the Iris dataset. "
   ],
   "metadata": {
    "collapsed": false
   },
   "id": "3eba28080df942cf"
  },
  {
   "cell_type": "code",
   "source": [
    "iris = sns.load_dataset(\"iris\")\n",
    "\n",
    "iris.head()"
   ],
   "metadata": {
    "collapsed": false,
    "ExecuteTime": {
     "end_time": "2024-04-09T09:09:50.043989Z",
     "start_time": "2024-04-09T09:09:50.036902Z"
    }
   },
   "id": "7b26dc796d6118c",
   "outputs": [
    {
     "data": {
      "text/plain": [
       "   sepal_length  sepal_width  petal_length  petal_width species\n",
       "0           5.1          3.5           1.4          0.2  setosa\n",
       "1           4.9          3.0           1.4          0.2  setosa\n",
       "2           4.7          3.2           1.3          0.2  setosa\n",
       "3           4.6          3.1           1.5          0.2  setosa\n",
       "4           5.0          3.6           1.4          0.2  setosa"
      ],
      "text/html": [
       "<div>\n",
       "<style scoped>\n",
       "    .dataframe tbody tr th:only-of-type {\n",
       "        vertical-align: middle;\n",
       "    }\n",
       "\n",
       "    .dataframe tbody tr th {\n",
       "        vertical-align: top;\n",
       "    }\n",
       "\n",
       "    .dataframe thead th {\n",
       "        text-align: right;\n",
       "    }\n",
       "</style>\n",
       "<table border=\"1\" class=\"dataframe\">\n",
       "  <thead>\n",
       "    <tr style=\"text-align: right;\">\n",
       "      <th></th>\n",
       "      <th>sepal_length</th>\n",
       "      <th>sepal_width</th>\n",
       "      <th>petal_length</th>\n",
       "      <th>petal_width</th>\n",
       "      <th>species</th>\n",
       "    </tr>\n",
       "  </thead>\n",
       "  <tbody>\n",
       "    <tr>\n",
       "      <th>0</th>\n",
       "      <td>5.1</td>\n",
       "      <td>3.5</td>\n",
       "      <td>1.4</td>\n",
       "      <td>0.2</td>\n",
       "      <td>setosa</td>\n",
       "    </tr>\n",
       "    <tr>\n",
       "      <th>1</th>\n",
       "      <td>4.9</td>\n",
       "      <td>3.0</td>\n",
       "      <td>1.4</td>\n",
       "      <td>0.2</td>\n",
       "      <td>setosa</td>\n",
       "    </tr>\n",
       "    <tr>\n",
       "      <th>2</th>\n",
       "      <td>4.7</td>\n",
       "      <td>3.2</td>\n",
       "      <td>1.3</td>\n",
       "      <td>0.2</td>\n",
       "      <td>setosa</td>\n",
       "    </tr>\n",
       "    <tr>\n",
       "      <th>3</th>\n",
       "      <td>4.6</td>\n",
       "      <td>3.1</td>\n",
       "      <td>1.5</td>\n",
       "      <td>0.2</td>\n",
       "      <td>setosa</td>\n",
       "    </tr>\n",
       "    <tr>\n",
       "      <th>4</th>\n",
       "      <td>5.0</td>\n",
       "      <td>3.6</td>\n",
       "      <td>1.4</td>\n",
       "      <td>0.2</td>\n",
       "      <td>setosa</td>\n",
       "    </tr>\n",
       "  </tbody>\n",
       "</table>\n",
       "</div>"
      ]
     },
     "execution_count": 2,
     "metadata": {},
     "output_type": "execute_result"
    }
   ],
   "execution_count": 2
  },
  {
   "cell_type": "markdown",
   "source": [
    "Performing the pairwise Wilcoxon test works similarly for all tests and use the \"get_X\" script, where X is the name of the test.  "
   ],
   "metadata": {
    "collapsed": false
   },
   "id": "25656cce5bbc4826"
  },
  {
   "cell_type": "code",
   "source": [
    "stats.get_wilcoxon(data=iris, group_col='species', value_col='sepal_width')"
   ],
   "metadata": {
    "collapsed": false,
    "ExecuteTime": {
     "end_time": "2024-04-09T09:09:50.052235Z",
     "start_time": "2024-04-09T09:09:50.044597Z"
    }
   },
   "id": "4f6f06452e30e76e",
   "outputs": [
    {
     "data": {
      "text/plain": [
       "            A           B  W-val         p-val significance       RBC    CLES\n",
       "0      setosa  versicolor   34.0  3.190027e-08         ****  0.937095  0.9248\n",
       "1      setosa   virginica   99.5  8.767532e-07         ****  0.823582  0.8344\n",
       "2  versicolor   virginica  247.0  6.368052e-03           ** -0.477801  0.3364"
      ],
      "text/html": [
       "<div>\n",
       "<style scoped>\n",
       "    .dataframe tbody tr th:only-of-type {\n",
       "        vertical-align: middle;\n",
       "    }\n",
       "\n",
       "    .dataframe tbody tr th {\n",
       "        vertical-align: top;\n",
       "    }\n",
       "\n",
       "    .dataframe thead th {\n",
       "        text-align: right;\n",
       "    }\n",
       "</style>\n",
       "<table border=\"1\" class=\"dataframe\">\n",
       "  <thead>\n",
       "    <tr style=\"text-align: right;\">\n",
       "      <th></th>\n",
       "      <th>A</th>\n",
       "      <th>B</th>\n",
       "      <th>W-val</th>\n",
       "      <th>p-val</th>\n",
       "      <th>significance</th>\n",
       "      <th>RBC</th>\n",
       "      <th>CLES</th>\n",
       "    </tr>\n",
       "  </thead>\n",
       "  <tbody>\n",
       "    <tr>\n",
       "      <th>0</th>\n",
       "      <td>setosa</td>\n",
       "      <td>versicolor</td>\n",
       "      <td>34.0</td>\n",
       "      <td>3.190027e-08</td>\n",
       "      <td>****</td>\n",
       "      <td>0.937095</td>\n",
       "      <td>0.9248</td>\n",
       "    </tr>\n",
       "    <tr>\n",
       "      <th>1</th>\n",
       "      <td>setosa</td>\n",
       "      <td>virginica</td>\n",
       "      <td>99.5</td>\n",
       "      <td>8.767532e-07</td>\n",
       "      <td>****</td>\n",
       "      <td>0.823582</td>\n",
       "      <td>0.8344</td>\n",
       "    </tr>\n",
       "    <tr>\n",
       "      <th>2</th>\n",
       "      <td>versicolor</td>\n",
       "      <td>virginica</td>\n",
       "      <td>247.0</td>\n",
       "      <td>6.368052e-03</td>\n",
       "      <td>**</td>\n",
       "      <td>-0.477801</td>\n",
       "      <td>0.3364</td>\n",
       "    </tr>\n",
       "  </tbody>\n",
       "</table>\n",
       "</div>"
      ]
     },
     "execution_count": 3,
     "metadata": {},
     "output_type": "execute_result"
    }
   ],
   "execution_count": 3
  },
  {
   "cell_type": "markdown",
   "source": [
    "Generating annotated plots is similar to those detailed in [006_statistics_quickstart tutorial](https://github.com/tlint101/py50/blob/main/tutorials/006_statistics_quickstart.ipynb) and [007_parametric_tutorial](https://github.com/tlint101/py50/blob/main/tutorials/007_parametric_tutorial.ipynb).\n",
    "\n",
    "As the plots will essentially re-calculate results using the given tests, the figures can return a dataframe to compare with the test results above."
   ],
   "metadata": {
    "collapsed": false
   },
   "id": "90c953fcbc149e97"
  },
  {
   "cell_type": "code",
   "source": [
    "title = \"Swarm Plot with Pairwise WilCoxon Test\"\n",
    "title_fontsize = 18\n",
    "\n",
    "plot.swarmplot(data=iris, test='wilcoxon', group_col='species', value_col='sepal_width', title=title,\n",
    "               title_fontsize=title_fontsize, return_df=True)"
   ],
   "metadata": {
    "collapsed": false,
    "ExecuteTime": {
     "end_time": "2024-04-09T09:09:50.273899Z",
     "start_time": "2024-04-09T09:09:50.053470Z"
    }
   },
   "id": "bab1709e7c1e7a4",
   "outputs": [
    {
     "data": {
      "text/plain": [
       "            A           B  W-val         p-val significance       RBC    CLES\n",
       "0      setosa  versicolor   34.0  3.190027e-08         ****  0.937095  0.9248\n",
       "1      setosa   virginica   99.5  8.767532e-07         ****  0.823582  0.8344\n",
       "2  versicolor   virginica  247.0  6.368052e-03           ** -0.477801  0.3364"
      ],
      "text/html": [
       "<div>\n",
       "<style scoped>\n",
       "    .dataframe tbody tr th:only-of-type {\n",
       "        vertical-align: middle;\n",
       "    }\n",
       "\n",
       "    .dataframe tbody tr th {\n",
       "        vertical-align: top;\n",
       "    }\n",
       "\n",
       "    .dataframe thead th {\n",
       "        text-align: right;\n",
       "    }\n",
       "</style>\n",
       "<table border=\"1\" class=\"dataframe\">\n",
       "  <thead>\n",
       "    <tr style=\"text-align: right;\">\n",
       "      <th></th>\n",
       "      <th>A</th>\n",
       "      <th>B</th>\n",
       "      <th>W-val</th>\n",
       "      <th>p-val</th>\n",
       "      <th>significance</th>\n",
       "      <th>RBC</th>\n",
       "      <th>CLES</th>\n",
       "    </tr>\n",
       "  </thead>\n",
       "  <tbody>\n",
       "    <tr>\n",
       "      <th>0</th>\n",
       "      <td>setosa</td>\n",
       "      <td>versicolor</td>\n",
       "      <td>34.0</td>\n",
       "      <td>3.190027e-08</td>\n",
       "      <td>****</td>\n",
       "      <td>0.937095</td>\n",
       "      <td>0.9248</td>\n",
       "    </tr>\n",
       "    <tr>\n",
       "      <th>1</th>\n",
       "      <td>setosa</td>\n",
       "      <td>virginica</td>\n",
       "      <td>99.5</td>\n",
       "      <td>8.767532e-07</td>\n",
       "      <td>****</td>\n",
       "      <td>0.823582</td>\n",
       "      <td>0.8344</td>\n",
       "    </tr>\n",
       "    <tr>\n",
       "      <th>2</th>\n",
       "      <td>versicolor</td>\n",
       "      <td>virginica</td>\n",
       "      <td>247.0</td>\n",
       "      <td>6.368052e-03</td>\n",
       "      <td>**</td>\n",
       "      <td>-0.477801</td>\n",
       "      <td>0.3364</td>\n",
       "    </tr>\n",
       "  </tbody>\n",
       "</table>\n",
       "</div>"
      ]
     },
     "execution_count": 4,
     "metadata": {},
     "output_type": "execute_result"
    },
    {
     "data": {
      "text/plain": [
       "<Figure size 640x480 with 1 Axes>"
      ],
      "image/png": "[encoded data removed]"
     },
     "metadata": {},
     "output_type": "display_data"
    }
   ],
   "execution_count": 4
  },
  {
   "cell_type": "markdown",
   "source": [
    "### Pairwise Mann-Whitney U\n",
    "\n",
    "This is a non-parametric test used to determine if statistically significant differences occur between two independent groups. Unlike the pairise Wilcoxon tests (above), the measures for the Mann-Whitney U tests are not paired and there is less restrictions on the input data format.\n",
    "\n",
    "Both the pairwise Mann-Whitney U and pairwise Wilcoxon tests and perform tests for both groups and subgroups within each group. The usage with subgroups will be demoed with the Seaborn tips dataset. "
   ],
   "metadata": {
    "collapsed": false
   },
   "id": "c77ee60efc22bf2a"
  },
  {
   "cell_type": "code",
   "source": [
    "tips = sns.load_dataset(\"tips\")\n",
    "tips.head()"
   ],
   "metadata": {
    "collapsed": false,
    "ExecuteTime": {
     "end_time": "2024-04-09T09:09:50.290231Z",
     "start_time": "2024-04-09T09:09:50.275978Z"
    }
   },
   "id": "f6b07b71d4059429",
   "outputs": [
    {
     "data": {
      "text/plain": [
       "   total_bill   tip     sex smoker  day    time  size\n",
       "0       16.99  1.01  Female     No  Sun  Dinner     2\n",
       "1       10.34  1.66    Male     No  Sun  Dinner     3\n",
       "2       21.01  3.50    Male     No  Sun  Dinner     3\n",
       "3       23.68  3.31    Male     No  Sun  Dinner     2\n",
       "4       24.59  3.61  Female     No  Sun  Dinner     4"
      ],
      "text/html": [
       "<div>\n",
       "<style scoped>\n",
       "    .dataframe tbody tr th:only-of-type {\n",
       "        vertical-align: middle;\n",
       "    }\n",
       "\n",
       "    .dataframe tbody tr th {\n",
       "        vertical-align: top;\n",
       "    }\n",
       "\n",
       "    .dataframe thead th {\n",
       "        text-align: right;\n",
       "    }\n",
       "</style>\n",
       "<table border=\"1\" class=\"dataframe\">\n",
       "  <thead>\n",
       "    <tr style=\"text-align: right;\">\n",
       "      <th></th>\n",
       "      <th>total_bill</th>\n",
       "      <th>tip</th>\n",
       "      <th>sex</th>\n",
       "      <th>smoker</th>\n",
       "      <th>day</th>\n",
       "      <th>time</th>\n",
       "      <th>size</th>\n",
       "    </tr>\n",
       "  </thead>\n",
       "  <tbody>\n",
       "    <tr>\n",
       "      <th>0</th>\n",
       "      <td>16.99</td>\n",
       "      <td>1.01</td>\n",
       "      <td>Female</td>\n",
       "      <td>No</td>\n",
       "      <td>Sun</td>\n",
       "      <td>Dinner</td>\n",
       "      <td>2</td>\n",
       "    </tr>\n",
       "    <tr>\n",
       "      <th>1</th>\n",
       "      <td>10.34</td>\n",
       "      <td>1.66</td>\n",
       "      <td>Male</td>\n",
       "      <td>No</td>\n",
       "      <td>Sun</td>\n",
       "      <td>Dinner</td>\n",
       "      <td>3</td>\n",
       "    </tr>\n",
       "    <tr>\n",
       "      <th>2</th>\n",
       "      <td>21.01</td>\n",
       "      <td>3.50</td>\n",
       "      <td>Male</td>\n",
       "      <td>No</td>\n",
       "      <td>Sun</td>\n",
       "      <td>Dinner</td>\n",
       "      <td>3</td>\n",
       "    </tr>\n",
       "    <tr>\n",
       "      <th>3</th>\n",
       "      <td>23.68</td>\n",
       "      <td>3.31</td>\n",
       "      <td>Male</td>\n",
       "      <td>No</td>\n",
       "      <td>Sun</td>\n",
       "      <td>Dinner</td>\n",
       "      <td>2</td>\n",
       "    </tr>\n",
       "    <tr>\n",
       "      <th>4</th>\n",
       "      <td>24.59</td>\n",
       "      <td>3.61</td>\n",
       "      <td>Female</td>\n",
       "      <td>No</td>\n",
       "      <td>Sun</td>\n",
       "      <td>Dinner</td>\n",
       "      <td>4</td>\n",
       "    </tr>\n",
       "  </tbody>\n",
       "</table>\n",
       "</div>"
      ]
     },
     "execution_count": 5,
     "metadata": {},
     "output_type": "execute_result"
    }
   ],
   "execution_count": 5
  },
  {
   "cell_type": "markdown",
   "source": [
    "Pairwise Mann-Whitney U tests  are again called using the \"get_X\" format. Additional parameters include the \"subgroup_col\". "
   ],
   "metadata": {
    "collapsed": false
   },
   "id": "539078a475d97811"
  },
  {
   "cell_type": "code",
   "source": [
    "stats.get_mannu(data=tips, value_col='total_bill', group_col='time', subgroup_col='sex')"
   ],
   "metadata": {
    "collapsed": false,
    "ExecuteTime": {
     "end_time": "2024-04-09T09:09:50.318009Z",
     "start_time": "2024-04-09T09:09:50.292570Z"
    }
   },
   "id": "bf9947e706b2088b",
   "outputs": [
    {
     "data": {
      "text/plain": [
       "                  A                B   U-val     p-val significance       RBC  \\\n",
       "0  (Dinner, Female)   (Dinner, Male)  2849.5  0.225232         n.s.  0.116160   \n",
       "1  (Dinner, Female)    (Lunch, Male)   943.0  0.446076         n.s. -0.099068   \n",
       "2  (Dinner, Female)  (Lunch, Female)  1166.5  0.026695            * -0.281868   \n",
       "3    (Dinner, Male)    (Lunch, Male)  2483.5  0.059743         n.s. -0.213832   \n",
       "4    (Dinner, Male)  (Lunch, Female)  2994.5  0.000614          *** -0.379954   \n",
       "5     (Lunch, Male)  (Lunch, Female)   679.5  0.212925         n.s. -0.176623   \n",
       "\n",
       "       CLES  \n",
       "0  0.441920  \n",
       "1  0.549534  \n",
       "2  0.640934  \n",
       "3  0.606916  \n",
       "4  0.689977  \n",
       "5  0.588312  "
      ],
      "text/html": [
       "<div>\n",
       "<style scoped>\n",
       "    .dataframe tbody tr th:only-of-type {\n",
       "        vertical-align: middle;\n",
       "    }\n",
       "\n",
       "    .dataframe tbody tr th {\n",
       "        vertical-align: top;\n",
       "    }\n",
       "\n",
       "    .dataframe thead th {\n",
       "        text-align: right;\n",
       "    }\n",
       "</style>\n",
       "<table border=\"1\" class=\"dataframe\">\n",
       "  <thead>\n",
       "    <tr style=\"text-align: right;\">\n",
       "      <th></th>\n",
       "      <th>A</th>\n",
       "      <th>B</th>\n",
       "      <th>U-val</th>\n",
       "      <th>p-val</th>\n",
       "      <th>significance</th>\n",
       "      <th>RBC</th>\n",
       "      <th>CLES</th>\n",
       "    </tr>\n",
       "  </thead>\n",
       "  <tbody>\n",
       "    <tr>\n",
       "      <th>0</th>\n",
       "      <td>(Dinner, Female)</td>\n",
       "      <td>(Dinner, Male)</td>\n",
       "      <td>2849.5</td>\n",
       "      <td>0.225232</td>\n",
       "      <td>n.s.</td>\n",
       "      <td>0.116160</td>\n",
       "      <td>0.441920</td>\n",
       "    </tr>\n",
       "    <tr>\n",
       "      <th>1</th>\n",
       "      <td>(Dinner, Female)</td>\n",
       "      <td>(Lunch, Male)</td>\n",
       "      <td>943.0</td>\n",
       "      <td>0.446076</td>\n",
       "      <td>n.s.</td>\n",
       "      <td>-0.099068</td>\n",
       "      <td>0.549534</td>\n",
       "    </tr>\n",
       "    <tr>\n",
       "      <th>2</th>\n",
       "      <td>(Dinner, Female)</td>\n",
       "      <td>(Lunch, Female)</td>\n",
       "      <td>1166.5</td>\n",
       "      <td>0.026695</td>\n",
       "      <td>*</td>\n",
       "      <td>-0.281868</td>\n",
       "      <td>0.640934</td>\n",
       "    </tr>\n",
       "    <tr>\n",
       "      <th>3</th>\n",
       "      <td>(Dinner, Male)</td>\n",
       "      <td>(Lunch, Male)</td>\n",
       "      <td>2483.5</td>\n",
       "      <td>0.059743</td>\n",
       "      <td>n.s.</td>\n",
       "      <td>-0.213832</td>\n",
       "      <td>0.606916</td>\n",
       "    </tr>\n",
       "    <tr>\n",
       "      <th>4</th>\n",
       "      <td>(Dinner, Male)</td>\n",
       "      <td>(Lunch, Female)</td>\n",
       "      <td>2994.5</td>\n",
       "      <td>0.000614</td>\n",
       "      <td>***</td>\n",
       "      <td>-0.379954</td>\n",
       "      <td>0.689977</td>\n",
       "    </tr>\n",
       "    <tr>\n",
       "      <th>5</th>\n",
       "      <td>(Lunch, Male)</td>\n",
       "      <td>(Lunch, Female)</td>\n",
       "      <td>679.5</td>\n",
       "      <td>0.212925</td>\n",
       "      <td>n.s.</td>\n",
       "      <td>-0.176623</td>\n",
       "      <td>0.588312</td>\n",
       "    </tr>\n",
       "  </tbody>\n",
       "</table>\n",
       "</div>"
      ]
     },
     "execution_count": 6,
     "metadata": {},
     "output_type": "execute_result"
    }
   ],
   "execution_count": 6
  },
  {
   "cell_type": "markdown",
   "source": [
    "The inclusion of the subgroup will have an impact on the final plot. In this case, the subgroups will be color coded and a figure legend will be included. The figure legend will be drawn and placed in a default location. If this interferes with the plot, it can be moved using plt.legend(). \n",
    "\n",
    "For readability, groups that have no significance will not be annnotated. "
   ],
   "metadata": {
    "collapsed": false
   },
   "id": "1da370ed9f932406"
  },
  {
   "cell_type": "code",
   "source": [
    "title = \"Pairwise Mann-Whitney U Test\"\n",
    "\n",
    "pairs = [\n",
    "    (('Dinner', 'Female'), ('Lunch', 'Female')),\n",
    "    (('Dinner', 'Male'), ('Lunch', 'Female')),\n",
    "]\n",
    "\n",
    "plot.barplot(data=tips, test='mannu', value_col='total_bill', group_col='time', subgroup_col='sex', pairs=pairs,\n",
    "             title=title, title_fontsize=title_fontsize)\n",
    "plt.legend(loc='upper left', bbox_to_anchor=(1.03, 1))"
   ],
   "metadata": {
    "collapsed": false,
    "ExecuteTime": {
     "end_time": "2024-04-09T09:09:50.441939Z",
     "start_time": "2024-04-09T09:09:50.321917Z"
    }
   },
   "id": "27cb317ba1dc7c0c",
   "outputs": [
    {
     "data": {
      "text/plain": [
       "<matplotlib.legend.Legend at 0x176e26df0>"
      ]
     },
     "execution_count": 7,
     "metadata": {},
     "output_type": "execute_result"
    },
    {
     "data": {
      "text/plain": [
       "<Figure size 640x480 with 1 Axes>"
      ],
      "image/png": "[encoded data removed]"
     },
     "metadata": {},
     "output_type": "display_data"
    }
   ],
   "execution_count": 7
  },
  {
   "cell_type": "markdown",
   "source": [
    "As a reminder, the plots in py50 come with a lot of different methods for modification. In the figure above, Dinner is listed first. That is weird. I usually eat Lunch before Dinner? We can quickly modify this by including the **group_order** parameter.  \n",
    "\n",
    "Changing the group orders will also modify the layout order for the significant figures. The significant figures can also be modified if users dislike the asterisk and prefer a more verbose description. This is done using the pvalue_order. The order of the pvalue_order parmeter will follow the order of appearance in the statistics DataFrame. "
   ],
   "metadata": {
    "collapsed": false
   },
   "id": "448775816331208b"
  },
  {
   "cell_type": "code",
   "source": [
    "title = \"Pairwise Mann-Whitney U Test with Group Order and Verbose Pvalue\"\n",
    "\n",
    "meal_order = ['Lunch', 'Dinner']\n",
    "pvalue_order = ['p ≤ 0.05', 'p ≤ 0.001']\n",
    "\n",
    "plot.barplot(data=tips, test='mannu', value_col='total_bill', group_col='time', subgroup_col='sex', pairs=pairs,\n",
    "             group_order=meal_order, pvalue_order=pvalue_order, title=title)\n",
    "plt.legend(loc='upper right', bbox_to_anchor=(1.22, 1))"
   ],
   "metadata": {
    "collapsed": false,
    "ExecuteTime": {
     "end_time": "2024-04-09T09:09:50.560704Z",
     "start_time": "2024-04-09T09:09:50.442811Z"
    }
   },
   "id": "a59cfb4355dd0d84",
   "outputs": [
    {
     "data": {
      "text/plain": [
       "<matplotlib.legend.Legend at 0x176f1e1f0>"
      ]
     },
     "execution_count": 8,
     "metadata": {},
     "output_type": "execute_result"
    },
    {
     "data": {
      "text/plain": [
       "<Figure size 640x480 with 1 Axes>"
      ],
      "image/png": "[encoded data removed]"
     },
     "metadata": {},
     "output_type": "display_data"
    }
   ],
   "execution_count": 8
  },
  {
   "cell_type": "markdown",
   "source": [
    "### Friedman Test\n",
    "The Friedman test is a non-parametric test for repeated measures. The dataset must be in long format, i.e. each row represents a measurement. This requires both the group_col and the subgroup_col. \n",
    "\n",
    "For ease of use, the tips dataset will continue to be used. "
   ],
   "metadata": {
    "collapsed": false
   },
   "id": "20b06999d5e54bfc"
  },
  {
   "cell_type": "code",
   "source": [
    "stats.get_friedman(data=tips, value_col='total_bill', group_col='sex', subgroup_col='day')"
   ],
   "metadata": {
    "collapsed": false,
    "ExecuteTime": {
     "end_time": "2024-04-09T09:09:50.571084Z",
     "start_time": "2024-04-09T09:09:50.561468Z"
    }
   },
   "id": "e7ac4dfd531d7700",
   "outputs": [
    {
     "data": {
      "text/plain": [
       "         Source    W  ddof1    Q   p-unc significance\n",
       "Friedman    sex  1.0      1  4.0  0.0455            *"
      ],
      "text/html": [
       "<div>\n",
       "<style scoped>\n",
       "    .dataframe tbody tr th:only-of-type {\n",
       "        vertical-align: middle;\n",
       "    }\n",
       "\n",
       "    .dataframe tbody tr th {\n",
       "        vertical-align: top;\n",
       "    }\n",
       "\n",
       "    .dataframe thead th {\n",
       "        text-align: right;\n",
       "    }\n",
       "</style>\n",
       "<table border=\"1\" class=\"dataframe\">\n",
       "  <thead>\n",
       "    <tr style=\"text-align: right;\">\n",
       "      <th></th>\n",
       "      <th>Source</th>\n",
       "      <th>W</th>\n",
       "      <th>ddof1</th>\n",
       "      <th>Q</th>\n",
       "      <th>p-unc</th>\n",
       "      <th>significance</th>\n",
       "    </tr>\n",
       "  </thead>\n",
       "  <tbody>\n",
       "    <tr>\n",
       "      <th>Friedman</th>\n",
       "      <td>sex</td>\n",
       "      <td>1.0</td>\n",
       "      <td>1</td>\n",
       "      <td>4.0</td>\n",
       "      <td>0.0455</td>\n",
       "      <td>*</td>\n",
       "    </tr>\n",
       "  </tbody>\n",
       "</table>\n",
       "</div>"
      ]
     },
     "execution_count": 9,
     "metadata": {},
     "output_type": "execute_result"
    }
   ],
   "execution_count": 9
  },
  {
   "cell_type": "markdown",
   "source": [
    "The Friedman test suggest there is a difference between the sex column. Post-hoc tests can be performed using the get_pairwise_tests(). As the Friedman Test is non-parametric, the parametric argument must be set to False. The results can be plotted as shown in previous examples. "
   ],
   "metadata": {
    "collapsed": false
   },
   "id": "1f34ad484fccb8cd"
  },
  {
   "cell_type": "code",
   "source": [
    "stats.get_pairwise_tests(tips, value_col='total_bill', group_col='sex', parametric=False)"
   ],
   "metadata": {
    "collapsed": false,
    "ExecuteTime": {
     "end_time": "2024-04-09T09:09:50.582719Z",
     "start_time": "2024-04-09T09:09:50.572978Z"
    }
   },
   "id": "19ce4849232bedac",
   "outputs": [
    {
     "data": {
      "text/plain": [
       "  Contrast       A     B  Paired  Parametric   U-val alternative    p-unc  \\\n",
       "0      sex  Female  Male   False       False  5613.5   two-sided  0.02135   \n",
       "\n",
       "     hedges significance  \n",
       "0 -0.303494            *  "
      ],
      "text/html": [
       "<div>\n",
       "<style scoped>\n",
       "    .dataframe tbody tr th:only-of-type {\n",
       "        vertical-align: middle;\n",
       "    }\n",
       "\n",
       "    .dataframe tbody tr th {\n",
       "        vertical-align: top;\n",
       "    }\n",
       "\n",
       "    .dataframe thead th {\n",
       "        text-align: right;\n",
       "    }\n",
       "</style>\n",
       "<table border=\"1\" class=\"dataframe\">\n",
       "  <thead>\n",
       "    <tr style=\"text-align: right;\">\n",
       "      <th></th>\n",
       "      <th>Contrast</th>\n",
       "      <th>A</th>\n",
       "      <th>B</th>\n",
       "      <th>Paired</th>\n",
       "      <th>Parametric</th>\n",
       "      <th>U-val</th>\n",
       "      <th>alternative</th>\n",
       "      <th>p-unc</th>\n",
       "      <th>hedges</th>\n",
       "      <th>significance</th>\n",
       "    </tr>\n",
       "  </thead>\n",
       "  <tbody>\n",
       "    <tr>\n",
       "      <th>0</th>\n",
       "      <td>sex</td>\n",
       "      <td>Female</td>\n",
       "      <td>Male</td>\n",
       "      <td>False</td>\n",
       "      <td>False</td>\n",
       "      <td>5613.5</td>\n",
       "      <td>two-sided</td>\n",
       "      <td>0.02135</td>\n",
       "      <td>-0.303494</td>\n",
       "      <td>*</td>\n",
       "    </tr>\n",
       "  </tbody>\n",
       "</table>\n",
       "</div>"
      ]
     },
     "execution_count": 10,
     "metadata": {},
     "output_type": "execute_result"
    }
   ],
   "execution_count": 10
  },
  {
   "cell_type": "code",
   "source": [
    "title = \"Non-Parametric Pairwise Tests\"\n",
    "plot.boxplot(data=tips, value_col='total_bill', group_col='sex', test='pairwise-nonparametric', palette='Greens',\n",
    "             title=title, title_fontsize=title_fontsize, orient='h')"
   ],
   "metadata": {
    "collapsed": false,
    "ExecuteTime": {
     "end_time": "2024-04-09T09:09:50.650691Z",
     "start_time": "2024-04-09T09:09:50.583395Z"
    }
   },
   "id": "21ac76f065a37a8b",
   "outputs": [
    {
     "data": {
      "text/plain": [
       "<Figure size 640x480 with 1 Axes>"
      ],
      "image/png": "[encoded data removed]"
     },
     "metadata": {},
     "output_type": "display_data"
    }
   ],
   "execution_count": 11
  },
  {
   "cell_type": "markdown",
   "source": [
    "### Kruskal-Wallis H Test\n",
    "The Kruskal-Wallis test is a non-parametric method used to determine significant differences between two or more independent groups. Post-hoc tests can be performed to obtain pairwise differences. Again, the example here uses the pairwise-nonparametric as an example. \n",
    "\n",
    "For ease, the tip dataset will continue to be used. "
   ],
   "metadata": {
    "collapsed": false
   },
   "id": "86068bf7ce1f9ce5"
  },
  {
   "cell_type": "code",
   "source": [
    "stats.get_kruskal(data=tips, value_col='tip', group_col='day')"
   ],
   "metadata": {
    "collapsed": false,
    "ExecuteTime": {
     "end_time": "2024-04-09T09:09:50.658071Z",
     "start_time": "2024-04-09T09:09:50.651632Z"
    }
   },
   "id": "a414ac5334e5a35",
   "outputs": [
    {
     "data": {
      "text/plain": [
       "        Source  ddof1         H     p-unc significance\n",
       "Kruskal    day      3  8.565588  0.035661            *"
      ],
      "text/html": [
       "<div>\n",
       "<style scoped>\n",
       "    .dataframe tbody tr th:only-of-type {\n",
       "        vertical-align: middle;\n",
       "    }\n",
       "\n",
       "    .dataframe tbody tr th {\n",
       "        vertical-align: top;\n",
       "    }\n",
       "\n",
       "    .dataframe thead th {\n",
       "        text-align: right;\n",
       "    }\n",
       "</style>\n",
       "<table border=\"1\" class=\"dataframe\">\n",
       "  <thead>\n",
       "    <tr style=\"text-align: right;\">\n",
       "      <th></th>\n",
       "      <th>Source</th>\n",
       "      <th>ddof1</th>\n",
       "      <th>H</th>\n",
       "      <th>p-unc</th>\n",
       "      <th>significance</th>\n",
       "    </tr>\n",
       "  </thead>\n",
       "  <tbody>\n",
       "    <tr>\n",
       "      <th>Kruskal</th>\n",
       "      <td>day</td>\n",
       "      <td>3</td>\n",
       "      <td>8.565588</td>\n",
       "      <td>0.035661</td>\n",
       "      <td>*</td>\n",
       "    </tr>\n",
       "  </tbody>\n",
       "</table>\n",
       "</div>"
      ]
     },
     "execution_count": 12,
     "metadata": {},
     "output_type": "execute_result"
    }
   ],
   "execution_count": 12
  },
  {
   "cell_type": "code",
   "source": [
    "stats.get_pairwise_tests(tips, value_col='tip', group_col='day', parametric=False)"
   ],
   "metadata": {
    "collapsed": false,
    "ExecuteTime": {
     "end_time": "2024-04-09T09:09:50.672454Z",
     "start_time": "2024-04-09T09:09:50.658770Z"
    }
   },
   "id": "95c0734f8736f252",
   "outputs": [
    {
     "data": {
      "text/plain": [
       "  Contrast     A     B  Paired  Parametric   U-val alternative     p-unc  \\\n",
       "0      day   Sun   Sat   False       False  3960.0   two-sided  0.029497   \n",
       "1      day   Sun  Thur   False       False  2956.5   two-sided  0.010006   \n",
       "2      day   Sun   Fri   False       False   910.5   two-sided  0.079741   \n",
       "3      day   Sat  Thur   False       False  2907.5   two-sided  0.417663   \n",
       "4      day   Sat   Fri   False       False   845.0   two-sided  0.881937   \n",
       "5      day  Thur   Fri   False       False   561.0   two-sided  0.758381   \n",
       "\n",
       "     hedges significance  \n",
       "0  0.178644            *  \n",
       "1  0.388762            *  \n",
       "2  0.431509         n.s.  \n",
       "3  0.148857         n.s.  \n",
       "4  0.166274         n.s.  \n",
       "5  0.030468         n.s.  "
      ],
      "text/html": [
       "<div>\n",
       "<style scoped>\n",
       "    .dataframe tbody tr th:only-of-type {\n",
       "        vertical-align: middle;\n",
       "    }\n",
       "\n",
       "    .dataframe tbody tr th {\n",
       "        vertical-align: top;\n",
       "    }\n",
       "\n",
       "    .dataframe thead th {\n",
       "        text-align: right;\n",
       "    }\n",
       "</style>\n",
       "<table border=\"1\" class=\"dataframe\">\n",
       "  <thead>\n",
       "    <tr style=\"text-align: right;\">\n",
       "      <th></th>\n",
       "      <th>Contrast</th>\n",
       "      <th>A</th>\n",
       "      <th>B</th>\n",
       "      <th>Paired</th>\n",
       "      <th>Parametric</th>\n",
       "      <th>U-val</th>\n",
       "      <th>alternative</th>\n",
       "      <th>p-unc</th>\n",
       "      <th>hedges</th>\n",
       "      <th>significance</th>\n",
       "    </tr>\n",
       "  </thead>\n",
       "  <tbody>\n",
       "    <tr>\n",
       "      <th>0</th>\n",
       "      <td>day</td>\n",
       "      <td>Sun</td>\n",
       "      <td>Sat</td>\n",
       "      <td>False</td>\n",
       "      <td>False</td>\n",
       "      <td>3960.0</td>\n",
       "      <td>two-sided</td>\n",
       "      <td>0.029497</td>\n",
       "      <td>0.178644</td>\n",
       "      <td>*</td>\n",
       "    </tr>\n",
       "    <tr>\n",
       "      <th>1</th>\n",
       "      <td>day</td>\n",
       "      <td>Sun</td>\n",
       "      <td>Thur</td>\n",
       "      <td>False</td>\n",
       "      <td>False</td>\n",
       "      <td>2956.5</td>\n",
       "      <td>two-sided</td>\n",
       "      <td>0.010006</td>\n",
       "      <td>0.388762</td>\n",
       "      <td>*</td>\n",
       "    </tr>\n",
       "    <tr>\n",
       "      <th>2</th>\n",
       "      <td>day</td>\n",
       "      <td>Sun</td>\n",
       "      <td>Fri</td>\n",
       "      <td>False</td>\n",
       "      <td>False</td>\n",
       "      <td>910.5</td>\n",
       "      <td>two-sided</td>\n",
       "      <td>0.079741</td>\n",
       "      <td>0.431509</td>\n",
       "      <td>n.s.</td>\n",
       "    </tr>\n",
       "    <tr>\n",
       "      <th>3</th>\n",
       "      <td>day</td>\n",
       "      <td>Sat</td>\n",
       "      <td>Thur</td>\n",
       "      <td>False</td>\n",
       "      <td>False</td>\n",
       "      <td>2907.5</td>\n",
       "      <td>two-sided</td>\n",
       "      <td>0.417663</td>\n",
       "      <td>0.148857</td>\n",
       "      <td>n.s.</td>\n",
       "    </tr>\n",
       "    <tr>\n",
       "      <th>4</th>\n",
       "      <td>day</td>\n",
       "      <td>Sat</td>\n",
       "      <td>Fri</td>\n",
       "      <td>False</td>\n",
       "      <td>False</td>\n",
       "      <td>845.0</td>\n",
       "      <td>two-sided</td>\n",
       "      <td>0.881937</td>\n",
       "      <td>0.166274</td>\n",
       "      <td>n.s.</td>\n",
       "    </tr>\n",
       "    <tr>\n",
       "      <th>5</th>\n",
       "      <td>day</td>\n",
       "      <td>Thur</td>\n",
       "      <td>Fri</td>\n",
       "      <td>False</td>\n",
       "      <td>False</td>\n",
       "      <td>561.0</td>\n",
       "      <td>two-sided</td>\n",
       "      <td>0.758381</td>\n",
       "      <td>0.030468</td>\n",
       "      <td>n.s.</td>\n",
       "    </tr>\n",
       "  </tbody>\n",
       "</table>\n",
       "</div>"
      ]
     },
     "execution_count": 13,
     "metadata": {},
     "output_type": "execute_result"
    }
   ],
   "execution_count": 13
  },
  {
   "cell_type": "markdown",
   "source": [
    "For readability, groups with no significance were not annotated.  "
   ],
   "metadata": {
    "collapsed": false
   },
   "id": "81607edd18db7e1f"
  },
  {
   "cell_type": "code",
   "source": [
    "# Plot annotations\n",
    "title = \"Non-Parametric Pairwise Tests with New Group Order\"\n",
    "pairs = [('Sun', 'Sat'), ('Thur', 'Sun')]\n",
    "group_order = ['Sun', 'Thur', 'Fri', 'Sat']\n",
    "palette = ['red', 'orange', 'green', 'blue']\n",
    "\n",
    "plot.boxplot(data=tips, value_col='tip', group_col='day', test='pairwise-nonparametric', group_order=group_order,\n",
    "             pairs=pairs, palette=palette, title=title)"
   ],
   "metadata": {
    "collapsed": false,
    "ExecuteTime": {
     "end_time": "2024-04-09T09:09:50.768380Z",
     "start_time": "2024-04-09T09:09:50.673110Z"
    }
   },
   "id": "c449112f5f6db896",
   "outputs": [
    {
     "data": {
      "text/plain": [
       "<Figure size 640x480 with 1 Axes>"
      ],
      "image/png": "[encoded data removed]"
     },
     "metadata": {},
     "output_type": "display_data"
    }
   ],
   "execution_count": 14
  }
 ],
 "metadata": {
  "kernelspec": {
   "display_name": "Python 3",
   "language": "python",
   "name": "python3"
  },
  "language_info": {
   "codemirror_mode": {
    "name": "ipython",
    "version": 2
   },
   "file_extension": ".py",
   "mimetype": "text/x-python",
   "name": "python",
   "nbconvert_exporter": "python",
   "pygments_lexer": "ipython2",
   "version": "2.7.6"
  }
 },
 "nbformat": 4,
 "nbformat_minor": 5
}
